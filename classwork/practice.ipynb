{
 "cells": [
  {
   "cell_type": "code",
   "execution_count": 1,
   "id": "ca39a7f1",
   "metadata": {},
   "outputs": [],
   "source": [
    "msg = ''"
   ]
  },
  {
   "cell_type": "code",
   "execution_count": 2,
   "id": "1cbab660",
   "metadata": {},
   "outputs": [
    {
     "data": {
      "text/plain": [
       "0"
      ]
     },
     "execution_count": 2,
     "metadata": {},
     "output_type": "execute_result"
    }
   ],
   "source": [
    "len(msg)"
   ]
  },
  {
   "cell_type": "code",
   "execution_count": 4,
   "id": "908f2373",
   "metadata": {},
   "outputs": [],
   "source": [
    "msg = 'Angelina JJolie'"
   ]
  },
  {
   "cell_type": "code",
   "execution_count": 5,
   "id": "4ad5ec1b",
   "metadata": {},
   "outputs": [
    {
     "name": "stdout",
     "output_type": "stream",
     "text": [
      "Hello Angelina JJolie\n"
     ]
    }
   ],
   "source": [
    "print(f'Hello {msg}')"
   ]
  },
  {
   "cell_type": "code",
   "execution_count": 6,
   "id": "9c8c1f2b",
   "metadata": {},
   "outputs": [
    {
     "name": "stdout",
     "output_type": "stream",
     "text": [
      "3.14\n"
     ]
    }
   ],
   "source": [
    "print(3.14)"
   ]
  },
  {
   "cell_type": "code",
   "execution_count": 7,
   "id": "84a26ddb",
   "metadata": {},
   "outputs": [
    {
     "name": "stdout",
     "output_type": "stream",
     "text": [
      "4.3 Hello\n"
     ]
    }
   ],
   "source": [
    "print(4.3,'Hello')"
   ]
  },
  {
   "cell_type": "code",
   "execution_count": 8,
   "id": "3fb47ef7",
   "metadata": {},
   "outputs": [
    {
     "name": "stdout",
     "output_type": "stream",
     "text": [
      "3.14 Hello True Howdy\n"
     ]
    }
   ],
   "source": [
    "print(3.14,'Hello',True,'Howdy')"
   ]
  },
  {
   "cell_type": "code",
   "execution_count": 15,
   "id": "b36a5f3a",
   "metadata": {},
   "outputs": [
    {
     "name": "stdout",
     "output_type": "stream",
     "text": [
      "HelloWorld**howdy\n"
     ]
    }
   ],
   "source": [
    "print('Hello',\"World\",end='**',sep='')\n",
    "print(\"howdy\")"
   ]
  },
  {
   "cell_type": "code",
   "execution_count": 16,
   "id": "82ad2fce",
   "metadata": {},
   "outputs": [],
   "source": [
    "title = 'Meaning of Life'"
   ]
  },
  {
   "cell_type": "code",
   "execution_count": 19,
   "id": "89a7411c",
   "metadata": {},
   "outputs": [
    {
     "name": "stdout",
     "output_type": "stream",
     "text": [
      "variable is Meaning of Life, <class 'str'>,1944925913392\n"
     ]
    }
   ],
   "source": [
    "print(f'variable is {title}, {type(title)},{id(title)}')"
   ]
  },
  {
   "cell_type": "code",
   "execution_count": 20,
   "id": "6405f5ca",
   "metadata": {},
   "outputs": [],
   "source": [
    "title='Hello World!!'"
   ]
  },
  {
   "cell_type": "code",
   "execution_count": 21,
   "id": "c41b9572",
   "metadata": {},
   "outputs": [
    {
     "name": "stdout",
     "output_type": "stream",
     "text": [
      "title is Hello World!!\n"
     ]
    }
   ],
   "source": [
    "print(f'title is {title}')"
   ]
  },
  {
   "cell_type": "code",
   "execution_count": 23,
   "id": "8f271252",
   "metadata": {},
   "outputs": [],
   "source": [
    "hello ='hello'"
   ]
  },
  {
   "cell_type": "code",
   "execution_count": 24,
   "id": "ec13f983",
   "metadata": {},
   "outputs": [],
   "source": [
    "name = input('Plz enter ur name')"
   ]
  },
  {
   "cell_type": "code",
   "execution_count": 25,
   "id": "662cb769",
   "metadata": {},
   "outputs": [
    {
     "name": "stdout",
     "output_type": "stream",
     "text": [
      "elon musk\n"
     ]
    }
   ],
   "source": [
    "print(name)"
   ]
  },
  {
   "cell_type": "code",
   "execution_count": 26,
   "id": "4eaf2734",
   "metadata": {},
   "outputs": [],
   "source": [
    "age = int(input('plz enter ur age'))"
   ]
  },
  {
   "cell_type": "code",
   "execution_count": 28,
   "id": "89051f0f",
   "metadata": {},
   "outputs": [
    {
     "name": "stdout",
     "output_type": "stream",
     "text": [
      "36 <class 'int'>\n"
     ]
    }
   ],
   "source": [
    "print(age,type(age))"
   ]
  },
  {
   "cell_type": "code",
   "execution_count": 29,
   "id": "6d6f0708",
   "metadata": {},
   "outputs": [],
   "source": [
    "groceries_list = []"
   ]
  },
  {
   "cell_type": "code",
   "execution_count": 30,
   "id": "767c0959",
   "metadata": {},
   "outputs": [],
   "source": [
    "item1 = 'tomatoes'\n",
    "size = 1.25"
   ]
  },
  {
   "cell_type": "code",
   "execution_count": 32,
   "id": "3f19ab33",
   "metadata": {},
   "outputs": [],
   "source": [
    "groceries_list.append(item1)"
   ]
  },
  {
   "cell_type": "code",
   "execution_count": 33,
   "id": "bf871f04",
   "metadata": {},
   "outputs": [
    {
     "name": "stdout",
     "output_type": "stream",
     "text": [
      "18\n"
     ]
    }
   ],
   "source": [
    "x  = 9\n",
    "y = 2\n",
    "\n",
    "print(x*y)"
   ]
  },
  {
   "cell_type": "code",
   "execution_count": 34,
   "id": "0047fbd4",
   "metadata": {},
   "outputs": [],
   "source": [
    "result = 120/3"
   ]
  },
  {
   "cell_type": "code",
   "execution_count": 35,
   "id": "09230004",
   "metadata": {},
   "outputs": [
    {
     "name": "stdout",
     "output_type": "stream",
     "text": [
      "40.0\n"
     ]
    }
   ],
   "source": [
    "print(result)"
   ]
  },
  {
   "cell_type": "code",
   "execution_count": 38,
   "id": "ffa29a09",
   "metadata": {},
   "outputs": [],
   "source": [
    "# floor or integer division\n",
    "result = 120//3"
   ]
  },
  {
   "cell_type": "code",
   "execution_count": 37,
   "id": "6f70f1fc",
   "metadata": {},
   "outputs": [
    {
     "name": "stdout",
     "output_type": "stream",
     "text": [
      "40\n"
     ]
    }
   ],
   "source": [
    "print(result)"
   ]
  },
  {
   "cell_type": "code",
   "execution_count": null,
   "id": "804c0a06",
   "metadata": {},
   "outputs": [],
   "source": []
  }
 ],
 "metadata": {
  "kernelspec": {
   "display_name": "dsi_participant",
   "language": "python",
   "name": "python3"
  },
  "language_info": {
   "codemirror_mode": {
    "name": "ipython",
    "version": 3
   },
   "file_extension": ".py",
   "mimetype": "text/x-python",
   "name": "python",
   "nbconvert_exporter": "python",
   "pygments_lexer": "ipython3",
   "version": "3.9.15"
  }
 },
 "nbformat": 4,
 "nbformat_minor": 5
}
