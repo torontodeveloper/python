{
 "cells": [
  {
   "cell_type": "code",
   "execution_count": 1,
   "id": "32690244",
   "metadata": {},
   "outputs": [],
   "source": [
    "def celsius_to_farenheit(temp):\n",
    "    return 9/5*temp + 32"
   ]
  },
  {
   "cell_type": "code",
   "execution_count": 3,
   "id": "3a7cf445",
   "metadata": {},
   "outputs": [],
   "source": [
    "result = celsius_to_farenheit(10)"
   ]
  },
  {
   "cell_type": "code",
   "execution_count": 4,
   "id": "5a259835",
   "metadata": {},
   "outputs": [
    {
     "name": "stdout",
     "output_type": "stream",
     "text": [
      "tempareture in farenheit 50.0\n"
     ]
    }
   ],
   "source": [
    "print(f'tempareture in farenheit {result}')"
   ]
  },
  {
   "cell_type": "code",
   "execution_count": 7,
   "id": "56436daa",
   "metadata": {},
   "outputs": [],
   "source": [
    "def calculate_score(subj1,subj2,subj3):\n",
    "    total = subj1+subj2+subj3\n",
    "    return (total/3)"
   ]
  },
  {
   "cell_type": "code",
   "execution_count": 9,
   "id": "3e8607c4",
   "metadata": {},
   "outputs": [],
   "source": [
    "percentage = calculate_score(80,90,89)"
   ]
  },
  {
   "cell_type": "code",
   "execution_count": 11,
   "id": "dc401629",
   "metadata": {},
   "outputs": [
    {
     "name": "stdout",
     "output_type": "stream",
     "text": [
      "My percentage is 86.33 %\n"
     ]
    }
   ],
   "source": [
    "print(f'My percentage is {percentage:.2f} %')"
   ]
  },
  {
   "cell_type": "code",
   "execution_count": 18,
   "id": "0803e2d7",
   "metadata": {},
   "outputs": [],
   "source": [
    "def calculate_tax(income,rate=0.13):\n",
    "    return income+income*rate"
   ]
  },
  {
   "cell_type": "code",
   "execution_count": 19,
   "id": "742fefc3",
   "metadata": {},
   "outputs": [],
   "source": [
    "taxation1 = calculate_tax(100)"
   ]
  },
  {
   "cell_type": "code",
   "execution_count": 20,
   "id": "ea6505ba",
   "metadata": {},
   "outputs": [],
   "source": [
    "taxation2 = calculate_tax(100,0.13)"
   ]
  },
  {
   "cell_type": "code",
   "execution_count": 21,
   "id": "4df048cf",
   "metadata": {},
   "outputs": [
    {
     "name": "stdout",
     "output_type": "stream",
     "text": [
      "Tax is 113.0\n"
     ]
    }
   ],
   "source": [
    "print(f'Tax is {taxation1}')"
   ]
  },
  {
   "cell_type": "code",
   "execution_count": 22,
   "id": "538fc52e",
   "metadata": {},
   "outputs": [
    {
     "name": "stdout",
     "output_type": "stream",
     "text": [
      "Tax is 113.0\n"
     ]
    }
   ],
   "source": [
    "print(f'Tax is {taxation2}')"
   ]
  },
  {
   "cell_type": "code",
   "execution_count": 24,
   "id": "a8804199",
   "metadata": {},
   "outputs": [
    {
     "data": {
      "text/plain": [
       "'\\nThis is rhythm of life \\nHowever we should enjoy life as well\\n\\n'"
      ]
     },
     "execution_count": 24,
     "metadata": {},
     "output_type": "execute_result"
    }
   ],
   "source": [
    "'''\n",
    "This is rhythm of life \n",
    "However we should enjoy life as well\n",
    "\n",
    "'''"
   ]
  },
  {
   "cell_type": "code",
   "execution_count": 27,
   "id": "87262281",
   "metadata": {},
   "outputs": [
    {
     "name": "stdout",
     "output_type": "stream",
     "text": [
      "This is awesomness of Escape sequences. \t Plz enjoy the beautiful spring season in Toronot.\n"
     ]
    }
   ],
   "source": [
    "print('This is awesomness of Escape sequences. \\t Plz enjoy the beautiful spring season in Toronot.')"
   ]
  },
  {
   "cell_type": "code",
   "execution_count": 29,
   "id": "b272117f",
   "metadata": {},
   "outputs": [
    {
     "name": "stdout",
     "output_type": "stream",
     "text": [
      "My favourite actress is \t Angelina Jolie. Angelina's Jolie food is Nacho's\n"
     ]
    }
   ],
   "source": [
    "print('My favourite actress is \\t Angelina Jolie. Angelina\\'s Jolie food is Nacho\\'s')"
   ]
  },
  {
   "cell_type": "code",
   "execution_count": 30,
   "id": "478d1810",
   "metadata": {},
   "outputs": [
    {
     "data": {
      "text/plain": [
       "True"
      ]
     },
     "execution_count": 30,
     "metadata": {},
     "output_type": "execute_result"
    }
   ],
   "source": [
    "3 == 3"
   ]
  },
  {
   "cell_type": "code",
   "execution_count": 31,
   "id": "93c3c1fc",
   "metadata": {},
   "outputs": [
    {
     "ename": "TypeError",
     "evalue": "can only concatenate str (not \"int\") to str",
     "output_type": "error",
     "traceback": [
      "\u001b[1;31m---------------------------------------------------------------------------\u001b[0m",
      "\u001b[1;31mTypeError\u001b[0m                                 Traceback (most recent call last)",
      "Cell \u001b[1;32mIn[31], line 1\u001b[0m\n\u001b[1;32m----> 1\u001b[0m \u001b[38;5;124;43m'\u001b[39;49m\u001b[38;5;124;43mHello\u001b[39;49m\u001b[38;5;124;43m'\u001b[39;49m\u001b[43m \u001b[49m\u001b[38;5;241;43m+\u001b[39;49m\u001b[43m \u001b[49m\u001b[38;5;241;43m3\u001b[39;49m\n",
      "\u001b[1;31mTypeError\u001b[0m: can only concatenate str (not \"int\") to str"
     ]
    }
   ],
   "source": [
    "'Hello' + 3"
   ]
  },
  {
   "cell_type": "code",
   "execution_count": 32,
   "id": "01299c5b",
   "metadata": {},
   "outputs": [
    {
     "data": {
      "text/plain": [
       "'HelloHelloHello'"
      ]
     },
     "execution_count": 32,
     "metadata": {},
     "output_type": "execute_result"
    }
   ],
   "source": [
    "'Hello'*3"
   ]
  },
  {
   "cell_type": "code",
   "execution_count": 35,
   "id": "7f371dfc",
   "metadata": {},
   "outputs": [
    {
     "data": {
      "text/plain": [
       "False"
      ]
     },
     "execution_count": 35,
     "metadata": {},
     "output_type": "execute_result"
    }
   ],
   "source": [
    "3!=3"
   ]
  },
  {
   "cell_type": "code",
   "execution_count": 36,
   "id": "e1fa59eb",
   "metadata": {},
   "outputs": [
    {
     "data": {
      "text/plain": [
       "True"
      ]
     },
     "execution_count": 36,
     "metadata": {},
     "output_type": "execute_result"
    }
   ],
   "source": [
    "'apple' == 'apple'"
   ]
  },
  {
   "cell_type": "code",
   "execution_count": 37,
   "id": "d2c459ac",
   "metadata": {},
   "outputs": [
    {
     "data": {
      "text/plain": [
       "False"
      ]
     },
     "execution_count": 37,
     "metadata": {},
     "output_type": "execute_result"
    }
   ],
   "source": [
    "'Apple' == 'apple'"
   ]
  },
  {
   "cell_type": "code",
   "execution_count": 38,
   "id": "1966e147",
   "metadata": {},
   "outputs": [
    {
     "data": {
      "text/plain": [
       "False"
      ]
     },
     "execution_count": 38,
     "metadata": {},
     "output_type": "execute_result"
    }
   ],
   "source": [
    "'20'==20"
   ]
  },
  {
   "cell_type": "code",
   "execution_count": 42,
   "id": "0d7f7c8f",
   "metadata": {},
   "outputs": [],
   "source": [
    "number ='+1 647-433-1243'"
   ]
  },
  {
   "cell_type": "code",
   "execution_count": 48,
   "id": "94475f53",
   "metadata": {},
   "outputs": [
    {
     "data": {
      "text/plain": [
       "'647'"
      ]
     },
     "execution_count": 48,
     "metadata": {},
     "output_type": "execute_result"
    }
   ],
   "source": [
    "number[3:6]"
   ]
  },
  {
   "cell_type": "code",
   "execution_count": 49,
   "id": "7079f13b",
   "metadata": {},
   "outputs": [],
   "source": [
    "job = 'The successful applicant will be proficient in R, Python, SQL, statistics, and data visualization.'"
   ]
  },
  {
   "cell_type": "code",
   "execution_count": 50,
   "id": "94e6ed8f",
   "metadata": {},
   "outputs": [
    {
     "data": {
      "text/plain": [
       "True"
      ]
     },
     "execution_count": 50,
     "metadata": {},
     "output_type": "execute_result"
    }
   ],
   "source": [
    "'R' in job"
   ]
  },
  {
   "cell_type": "code",
   "execution_count": 51,
   "id": "7551b138",
   "metadata": {},
   "outputs": [
    {
     "data": {
      "text/plain": [
       "True"
      ]
     },
     "execution_count": 51,
     "metadata": {},
     "output_type": "execute_result"
    }
   ],
   "source": [
    "'Python' in job"
   ]
  },
  {
   "cell_type": "code",
   "execution_count": 52,
   "id": "bd14f4c3",
   "metadata": {},
   "outputs": [
    {
     "name": "stdout",
     "output_type": "stream",
     "text": [
      "SQL found\n"
     ]
    }
   ],
   "source": [
    "if 'SQL' in job:\n",
    "    print('SQL found')"
   ]
  },
  {
   "cell_type": "code",
   "execution_count": 53,
   "id": "eebadc34",
   "metadata": {},
   "outputs": [
    {
     "data": {
      "text/plain": [
       "11"
      ]
     },
     "execution_count": 53,
     "metadata": {},
     "output_type": "execute_result"
    }
   ],
   "source": [
    "len(\"Hello World\")"
   ]
  },
  {
   "cell_type": "code",
   "execution_count": null,
   "id": "5857ee48",
   "metadata": {},
   "outputs": [],
   "source": []
  }
 ],
 "metadata": {
  "kernelspec": {
   "display_name": "dsi_participant",
   "language": "python",
   "name": "python3"
  },
  "language_info": {
   "codemirror_mode": {
    "name": "ipython",
    "version": 3
   },
   "file_extension": ".py",
   "mimetype": "text/x-python",
   "name": "python",
   "nbconvert_exporter": "python",
   "pygments_lexer": "ipython3",
   "version": "3.9.15"
  }
 },
 "nbformat": 4,
 "nbformat_minor": 5
}
