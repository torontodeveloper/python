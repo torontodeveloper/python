{
 "cells": [
  {
   "cell_type": "code",
   "execution_count": 1,
   "id": "32690244",
   "metadata": {},
   "outputs": [],
   "source": [
    "def celsius_to_farenheit(temp):\n",
    "    return 9/5*temp + 32"
   ]
  },
  {
   "cell_type": "code",
   "execution_count": 3,
   "id": "3a7cf445",
   "metadata": {},
   "outputs": [],
   "source": [
    "result = celsius_to_farenheit(10)"
   ]
  },
  {
   "cell_type": "code",
   "execution_count": 4,
   "id": "5a259835",
   "metadata": {},
   "outputs": [
    {
     "name": "stdout",
     "output_type": "stream",
     "text": [
      "tempareture in farenheit 50.0\n"
     ]
    }
   ],
   "source": [
    "print(f'tempareture in farenheit {result}')"
   ]
  },
  {
   "cell_type": "code",
   "execution_count": null,
   "id": "56436daa",
   "metadata": {},
   "outputs": [],
   "source": []
  }
 ],
 "metadata": {
  "kernelspec": {
   "display_name": "dsi_participant",
   "language": "python",
   "name": "python3"
  },
  "language_info": {
   "codemirror_mode": {
    "name": "ipython",
    "version": 3
   },
   "file_extension": ".py",
   "mimetype": "text/x-python",
   "name": "python",
   "nbconvert_exporter": "python",
   "pygments_lexer": "ipython3",
   "version": "3.9.15"
  }
 },
 "nbformat": 4,
 "nbformat_minor": 5
}
