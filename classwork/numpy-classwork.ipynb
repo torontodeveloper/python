{
 "cells": [
  {
   "cell_type": "code",
   "execution_count": 1,
   "id": "23169734",
   "metadata": {},
   "outputs": [],
   "source": [
    "import numpy as  np"
   ]
  },
  {
   "cell_type": "code",
   "execution_count": 2,
   "id": "0050092f",
   "metadata": {},
   "outputs": [],
   "source": [
    "lst = np.array([10,20,30,49])"
   ]
  },
  {
   "cell_type": "code",
   "execution_count": 3,
   "id": "b69caf85",
   "metadata": {},
   "outputs": [
    {
     "data": {
      "text/plain": [
       "array([10, 20, 30, 49])"
      ]
     },
     "execution_count": 3,
     "metadata": {},
     "output_type": "execute_result"
    }
   ],
   "source": [
    "lst"
   ]
  },
  {
   "cell_type": "code",
   "execution_count": 5,
   "id": "ad2550f0",
   "metadata": {},
   "outputs": [],
   "source": [
    "lst = np.array([[10,20,30],[22,33,44]])"
   ]
  },
  {
   "cell_type": "code",
   "execution_count": 6,
   "id": "340d23d1",
   "metadata": {},
   "outputs": [
    {
     "name": "stdout",
     "output_type": "stream",
     "text": [
      "[[10 20 30]\n",
      " [22 33 44]]\n"
     ]
    }
   ],
   "source": [
    "print(lst)"
   ]
  },
  {
   "cell_type": "code",
   "execution_count": 7,
   "id": "add0c11b",
   "metadata": {},
   "outputs": [
    {
     "data": {
      "text/plain": [
       "2"
      ]
     },
     "execution_count": 7,
     "metadata": {},
     "output_type": "execute_result"
    }
   ],
   "source": [
    "lst.ndim"
   ]
  },
  {
   "cell_type": "code",
   "execution_count": 8,
   "id": "87721a37",
   "metadata": {},
   "outputs": [
    {
     "data": {
      "text/plain": [
       "(2, 3)"
      ]
     },
     "execution_count": 8,
     "metadata": {},
     "output_type": "execute_result"
    }
   ],
   "source": [
    "lst.shape"
   ]
  },
  {
   "cell_type": "code",
   "execution_count": 9,
   "id": "fc33333d",
   "metadata": {},
   "outputs": [
    {
     "data": {
      "text/plain": [
       "6"
      ]
     },
     "execution_count": 9,
     "metadata": {},
     "output_type": "execute_result"
    }
   ],
   "source": [
    "lst.size"
   ]
  },
  {
   "cell_type": "code",
   "execution_count": 11,
   "id": "22244663",
   "metadata": {},
   "outputs": [
    {
     "data": {
      "text/plain": [
       "dtype('int32')"
      ]
     },
     "execution_count": 11,
     "metadata": {},
     "output_type": "execute_result"
    }
   ],
   "source": [
    "lst.dtype"
   ]
  },
  {
   "cell_type": "code",
   "execution_count": 13,
   "id": "0327a144",
   "metadata": {},
   "outputs": [
    {
     "data": {
      "text/plain": [
       "array([[10, 20, 30],\n",
       "       [22, 33, 44]])"
      ]
     },
     "execution_count": 13,
     "metadata": {},
     "output_type": "execute_result"
    }
   ],
   "source": [
    "lst"
   ]
  },
  {
   "cell_type": "code",
   "execution_count": 14,
   "id": "a63594f5",
   "metadata": {},
   "outputs": [
    {
     "data": {
      "text/plain": [
       "array([[0., 0.],\n",
       "       [0., 0.],\n",
       "       [0., 0.]])"
      ]
     },
     "execution_count": 14,
     "metadata": {},
     "output_type": "execute_result"
    }
   ],
   "source": [
    "np.zeros((3,2))"
   ]
  },
  {
   "cell_type": "code",
   "execution_count": 15,
   "id": "1ed84575",
   "metadata": {},
   "outputs": [
    {
     "data": {
      "text/plain": [
       "dtype('int32')"
      ]
     },
     "execution_count": 15,
     "metadata": {},
     "output_type": "execute_result"
    }
   ],
   "source": [
    "lst.dtype"
   ]
  },
  {
   "cell_type": "code",
   "execution_count": 16,
   "id": "033287cf",
   "metadata": {},
   "outputs": [
    {
     "data": {
      "text/plain": [
       "array([0, 1, 2, 3, 4, 5, 6, 7, 8, 9])"
      ]
     },
     "execution_count": 16,
     "metadata": {},
     "output_type": "execute_result"
    }
   ],
   "source": [
    "np.arange(10)"
   ]
  },
  {
   "cell_type": "code",
   "execution_count": 17,
   "id": "ff0627c5",
   "metadata": {},
   "outputs": [
    {
     "data": {
      "text/plain": [
       "array([  1,   8,  15,  22,  29,  36,  43,  50,  57,  64,  71,  78,  85,\n",
       "        92,  99, 106, 113])"
      ]
     },
     "execution_count": 17,
     "metadata": {},
     "output_type": "execute_result"
    }
   ],
   "source": [
    "np.arange(1,120,7)"
   ]
  },
  {
   "cell_type": "code",
   "execution_count": 18,
   "id": "a1f4e408",
   "metadata": {},
   "outputs": [
    {
     "data": {
      "text/plain": [
       "array([10, 10, 10, 10, 10, 10, 10])"
      ]
     },
     "execution_count": 18,
     "metadata": {},
     "output_type": "execute_result"
    }
   ],
   "source": [
    "np.repeat(10,7)"
   ]
  },
  {
   "cell_type": "code",
   "execution_count": 19,
   "id": "5c70bcd3",
   "metadata": {},
   "outputs": [],
   "source": [
    "lst = np.array([10,20,40,40,'hello'])"
   ]
  },
  {
   "cell_type": "code",
   "execution_count": 20,
   "id": "fd0952ec",
   "metadata": {},
   "outputs": [
    {
     "data": {
      "text/plain": [
       "array(['10', '20', '40', '40', 'hello'], dtype='<U11')"
      ]
     },
     "execution_count": 20,
     "metadata": {},
     "output_type": "execute_result"
    }
   ],
   "source": [
    "lst"
   ]
  },
  {
   "cell_type": "code",
   "execution_count": 21,
   "id": "c97f908b",
   "metadata": {},
   "outputs": [
    {
     "data": {
      "text/plain": [
       "dtype('<U11')"
      ]
     },
     "execution_count": 21,
     "metadata": {},
     "output_type": "execute_result"
    }
   ],
   "source": [
    "lst.dtype"
   ]
  },
  {
   "cell_type": "code",
   "execution_count": 22,
   "id": "042bcc49",
   "metadata": {},
   "outputs": [
    {
     "data": {
      "text/plain": [
       "array(['10', '20', '40', '40', 'hello', '10', '20', '40', '40', 'hello'],\n",
       "      dtype='<U11')"
      ]
     },
     "execution_count": 22,
     "metadata": {},
     "output_type": "execute_result"
    }
   ],
   "source": [
    "np.tile(lst,2)"
   ]
  },
  {
   "cell_type": "code",
   "execution_count": 28,
   "id": "4fccc643",
   "metadata": {},
   "outputs": [],
   "source": [
    "lst = np.array([[2,5,7],[3,9,12]])"
   ]
  },
  {
   "cell_type": "code",
   "execution_count": 29,
   "id": "28ee9bab",
   "metadata": {},
   "outputs": [
    {
     "data": {
      "text/plain": [
       "array([[ 2,  5,  7],\n",
       "       [ 3,  9, 12]])"
      ]
     },
     "execution_count": 29,
     "metadata": {},
     "output_type": "execute_result"
    }
   ],
   "source": [
    "lst"
   ]
  },
  {
   "cell_type": "code",
   "execution_count": 30,
   "id": "7cd0f2d2",
   "metadata": {},
   "outputs": [],
   "source": [
    "newList = lst.T"
   ]
  },
  {
   "cell_type": "code",
   "execution_count": 31,
   "id": "a5849f1b",
   "metadata": {},
   "outputs": [
    {
     "data": {
      "text/plain": [
       "array([[ 2,  3],\n",
       "       [ 5,  9],\n",
       "       [ 7, 12]])"
      ]
     },
     "execution_count": 31,
     "metadata": {},
     "output_type": "execute_result"
    }
   ],
   "source": [
    "newList"
   ]
  },
  {
   "cell_type": "code",
   "execution_count": 32,
   "id": "e2e20c9f",
   "metadata": {},
   "outputs": [
    {
     "data": {
      "text/plain": [
       "array([[ 2,  5,  7],\n",
       "       [ 3,  9, 12]])"
      ]
     },
     "execution_count": 32,
     "metadata": {},
     "output_type": "execute_result"
    }
   ],
   "source": [
    "lst"
   ]
  },
  {
   "cell_type": "code",
   "execution_count": 33,
   "id": "0f57ed9c",
   "metadata": {},
   "outputs": [],
   "source": [
    "lst = np.arange(12)"
   ]
  },
  {
   "cell_type": "code",
   "execution_count": 34,
   "id": "f8868977",
   "metadata": {},
   "outputs": [
    {
     "data": {
      "text/plain": [
       "array([ 0,  1,  2,  3,  4,  5,  6,  7,  8,  9, 10, 11])"
      ]
     },
     "execution_count": 34,
     "metadata": {},
     "output_type": "execute_result"
    }
   ],
   "source": [
    "lst"
   ]
  },
  {
   "cell_type": "code",
   "execution_count": 35,
   "id": "545d8f48",
   "metadata": {},
   "outputs": [
    {
     "data": {
      "text/plain": [
       "array([ 0,  2,  4,  6,  8, 10, 12, 14, 16, 18, 20, 22])"
      ]
     },
     "execution_count": 35,
     "metadata": {},
     "output_type": "execute_result"
    }
   ],
   "source": [
    "lst*2"
   ]
  },
  {
   "cell_type": "code",
   "execution_count": 36,
   "id": "ffdd7310",
   "metadata": {},
   "outputs": [
    {
     "data": {
      "text/plain": [
       "array([ 3,  4,  5,  6,  7,  8,  9, 10, 11, 12, 13, 14])"
      ]
     },
     "execution_count": 36,
     "metadata": {},
     "output_type": "execute_result"
    }
   ],
   "source": [
    "lst+3"
   ]
  },
  {
   "cell_type": "code",
   "execution_count": 38,
   "id": "fe80bf55",
   "metadata": {},
   "outputs": [],
   "source": [
    "lst1 = [10,20,3]"
   ]
  },
  {
   "cell_type": "code",
   "execution_count": 39,
   "id": "8239b619",
   "metadata": {},
   "outputs": [],
   "source": [
    "lst2 = [100,100,100]"
   ]
  },
  {
   "cell_type": "code",
   "execution_count": 40,
   "id": "0c36c30d",
   "metadata": {},
   "outputs": [
    {
     "data": {
      "text/plain": [
       "[10, 20, 3, 100, 100, 100]"
      ]
     },
     "execution_count": 40,
     "metadata": {},
     "output_type": "execute_result"
    }
   ],
   "source": [
    "lst1+lst2"
   ]
  },
  {
   "cell_type": "code",
   "execution_count": 41,
   "id": "9fa4f28a",
   "metadata": {},
   "outputs": [
    {
     "data": {
      "text/plain": [
       "array([ 0,  1,  2,  3,  4,  5,  6,  7,  8,  9, 10, 11])"
      ]
     },
     "execution_count": 41,
     "metadata": {},
     "output_type": "execute_result"
    }
   ],
   "source": [
    "lst"
   ]
  },
  {
   "cell_type": "code",
   "execution_count": 42,
   "id": "fcd72081",
   "metadata": {},
   "outputs": [
    {
     "data": {
      "text/plain": [
       "11"
      ]
     },
     "execution_count": 42,
     "metadata": {},
     "output_type": "execute_result"
    }
   ],
   "source": [
    "lst.max()"
   ]
  },
  {
   "cell_type": "code",
   "execution_count": 43,
   "id": "6e9e562c",
   "metadata": {},
   "outputs": [
    {
     "data": {
      "text/plain": [
       "5.5"
      ]
     },
     "execution_count": 43,
     "metadata": {},
     "output_type": "execute_result"
    }
   ],
   "source": [
    "lst.mean()"
   ]
  },
  {
   "cell_type": "code",
   "execution_count": 44,
   "id": "e69533de",
   "metadata": {},
   "outputs": [
    {
     "data": {
      "text/plain": [
       "66"
      ]
     },
     "execution_count": 44,
     "metadata": {},
     "output_type": "execute_result"
    }
   ],
   "source": [
    "lst.sum()"
   ]
  },
  {
   "cell_type": "code",
   "execution_count": 46,
   "id": "e6b579fe",
   "metadata": {},
   "outputs": [
    {
     "data": {
      "text/plain": [
       "5.5"
      ]
     },
     "execution_count": 46,
     "metadata": {},
     "output_type": "execute_result"
    }
   ],
   "source": [
    "np.mean(lst)"
   ]
  },
  {
   "cell_type": "code",
   "execution_count": 51,
   "id": "679071cb",
   "metadata": {},
   "outputs": [],
   "source": [
    "tensor = np.arange(0,120,10).reshape(3,4)"
   ]
  },
  {
   "cell_type": "code",
   "execution_count": 52,
   "id": "b7fb9139",
   "metadata": {},
   "outputs": [
    {
     "data": {
      "text/plain": [
       "array([[  0,  10,  20,  30],\n",
       "       [ 40,  50,  60,  70],\n",
       "       [ 80,  90, 100, 110]])"
      ]
     },
     "execution_count": 52,
     "metadata": {},
     "output_type": "execute_result"
    }
   ],
   "source": [
    "tensor"
   ]
  },
  {
   "cell_type": "code",
   "execution_count": 53,
   "id": "9934fda8",
   "metadata": {},
   "outputs": [],
   "source": [
    "horizon = np.array([-5,-10,-15,-20])"
   ]
  },
  {
   "cell_type": "code",
   "execution_count": 54,
   "id": "93e96dca",
   "metadata": {},
   "outputs": [
    {
     "data": {
      "text/plain": [
       "array([[    0,  -100,  -300,  -600],\n",
       "       [ -200,  -500,  -900, -1400],\n",
       "       [ -400,  -900, -1500, -2200]])"
      ]
     },
     "execution_count": 54,
     "metadata": {},
     "output_type": "execute_result"
    }
   ],
   "source": [
    "tensor*horizon"
   ]
  },
  {
   "cell_type": "code",
   "execution_count": 55,
   "id": "4bf7a8d6",
   "metadata": {},
   "outputs": [
    {
     "data": {
      "text/plain": [
       "array([[-5,  0,  5, 10],\n",
       "       [35, 40, 45, 50],\n",
       "       [75, 80, 85, 90]])"
      ]
     },
     "execution_count": 55,
     "metadata": {},
     "output_type": "execute_result"
    }
   ],
   "source": [
    "tensor+horizon"
   ]
  },
  {
   "cell_type": "code",
   "execution_count": 57,
   "id": "fcf8a6d3",
   "metadata": {},
   "outputs": [
    {
     "data": {
      "text/plain": [
       "array([[  0,  10,  20,  30],\n",
       "       [ 40,  50,  60,  70],\n",
       "       [ 80,  90, 100, 110]])"
      ]
     },
     "execution_count": 57,
     "metadata": {},
     "output_type": "execute_result"
    }
   ],
   "source": [
    "tensor"
   ]
  },
  {
   "cell_type": "code",
   "execution_count": 59,
   "id": "35c128fb",
   "metadata": {},
   "outputs": [
    {
     "data": {
      "text/plain": [
       "array([40., 50., 60., 70.])"
      ]
     },
     "execution_count": 59,
     "metadata": {},
     "output_type": "execute_result"
    }
   ],
   "source": [
    "tensor.mean(axis=0) # axios 0 means column wise, down the rows"
   ]
  },
  {
   "cell_type": "code",
   "execution_count": 61,
   "id": "aa4d30eb",
   "metadata": {},
   "outputs": [
    {
     "data": {
      "text/plain": [
       "array([15., 55., 95.])"
      ]
     },
     "execution_count": 61,
     "metadata": {},
     "output_type": "execute_result"
    }
   ],
   "source": [
    "tensor.mean(axis=1) ## row wise"
   ]
  },
  {
   "cell_type": "code",
   "execution_count": 62,
   "id": "acf67ebd",
   "metadata": {},
   "outputs": [
    {
     "data": {
      "text/plain": [
       "[10, 20, 3]"
      ]
     },
     "execution_count": 62,
     "metadata": {},
     "output_type": "execute_result"
    }
   ],
   "source": [
    "lst1"
   ]
  },
  {
   "cell_type": "code",
   "execution_count": 63,
   "id": "73546c75",
   "metadata": {},
   "outputs": [
    {
     "data": {
      "text/plain": [
       "10"
      ]
     },
     "execution_count": 63,
     "metadata": {},
     "output_type": "execute_result"
    }
   ],
   "source": [
    "lst1[0]"
   ]
  },
  {
   "cell_type": "code",
   "execution_count": 64,
   "id": "a500cc38",
   "metadata": {},
   "outputs": [
    {
     "data": {
      "text/plain": [
       "20"
      ]
     },
     "execution_count": 64,
     "metadata": {},
     "output_type": "execute_result"
    }
   ],
   "source": [
    "lst1[1]"
   ]
  },
  {
   "cell_type": "code",
   "execution_count": 65,
   "id": "3dda4f5d",
   "metadata": {},
   "outputs": [
    {
     "data": {
      "text/plain": [
       "[10, 20, 3]"
      ]
     },
     "execution_count": 65,
     "metadata": {},
     "output_type": "execute_result"
    }
   ],
   "source": [
    "lst1"
   ]
  },
  {
   "cell_type": "code",
   "execution_count": 66,
   "id": "25a08982",
   "metadata": {},
   "outputs": [],
   "source": [
    "lst1 = np.arange(1,20,2)"
   ]
  },
  {
   "cell_type": "code",
   "execution_count": 67,
   "id": "868c2d54",
   "metadata": {},
   "outputs": [
    {
     "data": {
      "text/plain": [
       "array([ 1,  3,  5,  7,  9, 11, 13, 15, 17, 19])"
      ]
     },
     "execution_count": 67,
     "metadata": {},
     "output_type": "execute_result"
    }
   ],
   "source": [
    "lst1"
   ]
  },
  {
   "cell_type": "code",
   "execution_count": 69,
   "id": "9e468e27",
   "metadata": {},
   "outputs": [
    {
     "data": {
      "text/plain": [
       "array([ 3,  5,  7,  9, 11])"
      ]
     },
     "execution_count": 69,
     "metadata": {},
     "output_type": "execute_result"
    }
   ],
   "source": [
    "lst1[1:6] # same as python list, slicing"
   ]
  },
  {
   "cell_type": "code",
   "execution_count": 70,
   "id": "f764683b",
   "metadata": {},
   "outputs": [
    {
     "data": {
      "text/plain": [
       "array([[  0,  10,  20,  30],\n",
       "       [ 40,  50,  60,  70],\n",
       "       [ 80,  90, 100, 110]])"
      ]
     },
     "execution_count": 70,
     "metadata": {},
     "output_type": "execute_result"
    }
   ],
   "source": [
    "tensor"
   ]
  },
  {
   "cell_type": "code",
   "execution_count": 71,
   "id": "39e247d7",
   "metadata": {},
   "outputs": [
    {
     "data": {
      "text/plain": [
       "60"
      ]
     },
     "execution_count": 71,
     "metadata": {},
     "output_type": "execute_result"
    }
   ],
   "source": [
    "tensor[1,2]"
   ]
  },
  {
   "cell_type": "code",
   "execution_count": 74,
   "id": "41b7112a",
   "metadata": {},
   "outputs": [],
   "source": [
    "matrix1 = np.array([1,3,2,99,797])"
   ]
  },
  {
   "cell_type": "code",
   "execution_count": 75,
   "id": "f26da0fd",
   "metadata": {},
   "outputs": [
    {
     "data": {
      "text/plain": [
       "array([  1,   3,   2,  99, 797])"
      ]
     },
     "execution_count": 75,
     "metadata": {},
     "output_type": "execute_result"
    }
   ],
   "source": [
    "matrix1"
   ]
  },
  {
   "cell_type": "code",
   "execution_count": 76,
   "id": "5c76be9f",
   "metadata": {},
   "outputs": [],
   "source": [
    "matrix2=matrix1"
   ]
  },
  {
   "cell_type": "code",
   "execution_count": 77,
   "id": "4ad16978",
   "metadata": {},
   "outputs": [],
   "source": [
    "matrix3 = matrix1.copy()"
   ]
  },
  {
   "cell_type": "code",
   "execution_count": 81,
   "id": "55bd8dec",
   "metadata": {},
   "outputs": [],
   "source": [
    "matrix1[0] = 107"
   ]
  },
  {
   "cell_type": "code",
   "execution_count": 82,
   "id": "adc554ba",
   "metadata": {},
   "outputs": [
    {
     "data": {
      "text/plain": [
       "array([107,   3,   2,  99, 797])"
      ]
     },
     "execution_count": 82,
     "metadata": {},
     "output_type": "execute_result"
    }
   ],
   "source": [
    "matrix1"
   ]
  },
  {
   "cell_type": "code",
   "execution_count": 83,
   "id": "ce50703d",
   "metadata": {},
   "outputs": [
    {
     "data": {
      "text/plain": [
       "array([107,   3,   2,  99, 797])"
      ]
     },
     "execution_count": 83,
     "metadata": {},
     "output_type": "execute_result"
    }
   ],
   "source": [
    "matrix2"
   ]
  },
  {
   "cell_type": "code",
   "execution_count": 84,
   "id": "c2e03faa",
   "metadata": {},
   "outputs": [
    {
     "data": {
      "text/plain": [
       "array([  1,   3,   2,  99, 797])"
      ]
     },
     "execution_count": 84,
     "metadata": {},
     "output_type": "execute_result"
    }
   ],
   "source": [
    "matrix3"
   ]
  },
  {
   "cell_type": "code",
   "execution_count": 85,
   "id": "ce7aa206",
   "metadata": {},
   "outputs": [],
   "source": [
    "matrix1 = [[1,23],[4,5,6],[[99,77]]]"
   ]
  },
  {
   "cell_type": "code",
   "execution_count": 86,
   "id": "bd249251",
   "metadata": {},
   "outputs": [],
   "source": [
    "matrix2 = matrix1.copy()"
   ]
  },
  {
   "cell_type": "code",
   "execution_count": 87,
   "id": "a81b8af0",
   "metadata": {},
   "outputs": [],
   "source": [
    "matrix1[2][0][1] = 1009"
   ]
  },
  {
   "cell_type": "code",
   "execution_count": 88,
   "id": "bc89428f",
   "metadata": {},
   "outputs": [
    {
     "data": {
      "text/plain": [
       "[[1, 23], [4, 5, 6], [[99, 1009]]]"
      ]
     },
     "execution_count": 88,
     "metadata": {},
     "output_type": "execute_result"
    }
   ],
   "source": [
    "matrix1"
   ]
  },
  {
   "cell_type": "code",
   "execution_count": 89,
   "id": "66c10ce6",
   "metadata": {},
   "outputs": [
    {
     "data": {
      "text/plain": [
       "[[1, 23], [4, 5, 6], [[99, 1009]]]"
      ]
     },
     "execution_count": 89,
     "metadata": {},
     "output_type": "execute_result"
    }
   ],
   "source": [
    "matrix2"
   ]
  },
  {
   "cell_type": "code",
   "execution_count": null,
   "id": "0bc494c5",
   "metadata": {},
   "outputs": [],
   "source": []
  }
 ],
 "metadata": {
  "kernelspec": {
   "display_name": "dsi_participant",
   "language": "python",
   "name": "python3"
  },
  "language_info": {
   "codemirror_mode": {
    "name": "ipython",
    "version": 3
   },
   "file_extension": ".py",
   "mimetype": "text/x-python",
   "name": "python",
   "nbconvert_exporter": "python",
   "pygments_lexer": "ipython3",
   "version": "3.9.15"
  }
 },
 "nbformat": 4,
 "nbformat_minor": 5
}
