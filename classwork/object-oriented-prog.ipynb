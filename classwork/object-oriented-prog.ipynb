{
 "cells": [
  {
   "cell_type": "code",
   "execution_count": 17,
   "id": "9b94f841",
   "metadata": {},
   "outputs": [],
   "source": [
    "class Person:\n",
    "    name:str\n",
    "    age:str\n",
    "    def __init__(self,name,age):\n",
    "        self.name = name\n",
    "        self.age = age\n",
    "    def sayHello(self):\n",
    "        return self.name+' '+str(self.age)"
   ]
  },
  {
   "cell_type": "code",
   "execution_count": 18,
   "id": "2c78e5bc",
   "metadata": {},
   "outputs": [],
   "source": [
    "obj = Person('Angelina',36)"
   ]
  },
  {
   "cell_type": "code",
   "execution_count": 19,
   "id": "3143a391",
   "metadata": {},
   "outputs": [
    {
     "data": {
      "text/plain": [
       "'Angelina 36'"
      ]
     },
     "execution_count": 19,
     "metadata": {},
     "output_type": "execute_result"
    }
   ],
   "source": [
    "obj.sayHello()"
   ]
  },
  {
   "cell_type": "code",
   "execution_count": 25,
   "id": "be303856",
   "metadata": {},
   "outputs": [],
   "source": [
    "class Car:\n",
    "    def __init__(self,name,brand,model,vin):\n",
    "        self.name = name\n",
    "        self.brand = brand\n",
    "        self.model = model\n",
    "        self.vin = vin\n",
    "    def honk_me(self):\n",
    "        print(f'{self.name} is Howdy!!!!!!!!!!!!!!!!!!!!')"
   ]
  },
  {
   "cell_type": "code",
   "execution_count": 26,
   "id": "140cc296",
   "metadata": {},
   "outputs": [],
   "source": [
    "honda = Car('Accord','Honda','2025',129849293333)\n",
    "\n",
    "tesla = Car('Tesla','S3','2025',1294892923838)"
   ]
  },
  {
   "cell_type": "code",
   "execution_count": 27,
   "id": "5b60ef42",
   "metadata": {},
   "outputs": [
    {
     "name": "stdout",
     "output_type": "stream",
     "text": [
      "Accord is Howdy!!!!!!!!!!!!!!!!!!!!\n",
      "None\n"
     ]
    }
   ],
   "source": [
    "print(honda.honk_me())"
   ]
  },
  {
   "cell_type": "code",
   "execution_count": 28,
   "id": "e2903b84",
   "metadata": {},
   "outputs": [
    {
     "name": "stdout",
     "output_type": "stream",
     "text": [
      "Tesla is Howdy!!!!!!!!!!!!!!!!!!!!\n",
      "None\n"
     ]
    }
   ],
   "source": [
    "print(tesla.honk_me())"
   ]
  },
  {
   "cell_type": "code",
   "execution_count": null,
   "id": "7dc645e3",
   "metadata": {},
   "outputs": [],
   "source": []
  }
 ],
 "metadata": {
  "kernelspec": {
   "display_name": "dsi_participant",
   "language": "python",
   "name": "python3"
  },
  "language_info": {
   "codemirror_mode": {
    "name": "ipython",
    "version": 3
   },
   "file_extension": ".py",
   "mimetype": "text/x-python",
   "name": "python",
   "nbconvert_exporter": "python",
   "pygments_lexer": "ipython3",
   "version": "3.9.15"
  }
 },
 "nbformat": 4,
 "nbformat_minor": 5
}
