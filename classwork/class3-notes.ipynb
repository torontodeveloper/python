{
 "cells": [
  {
   "cell_type": "code",
   "execution_count": 2,
   "id": "46e97592",
   "metadata": {},
   "outputs": [
    {
     "data": {
      "text/plain": [
       "False"
      ]
     },
     "execution_count": 2,
     "metadata": {},
     "output_type": "execute_result"
    }
   ],
   "source": [
    "'Python' == 'python'"
   ]
  },
  {
   "cell_type": "code",
   "execution_count": 4,
   "id": "abd19cf7",
   "metadata": {},
   "outputs": [
    {
     "name": "stdout",
     "output_type": "stream",
     "text": [
      "This is  True\n"
     ]
    }
   ],
   "source": [
    "is_sunny = True\n",
    "\n",
    "is_hot = True\n",
    "\n",
    "if is_hot and is_sunny:\n",
    "    print(f'This is ', is_sunny and is_hot)"
   ]
  },
  {
   "cell_type": "code",
   "execution_count": 5,
   "id": "7ac7409d",
   "metadata": {},
   "outputs": [],
   "source": [
    "lst = [10,20,30,40,50]"
   ]
  },
  {
   "cell_type": "code",
   "execution_count": 6,
   "id": "3435cc54",
   "metadata": {},
   "outputs": [],
   "source": [
    "vowels = ['a','e','i','o','u']"
   ]
  },
  {
   "cell_type": "code",
   "execution_count": 7,
   "id": "a35c1ba9",
   "metadata": {},
   "outputs": [
    {
     "name": "stdout",
     "output_type": "stream",
     "text": [
      "volwels  5\n"
     ]
    }
   ],
   "source": [
    "print(f'volwels ',len(vowels))"
   ]
  },
  {
   "cell_type": "code",
   "execution_count": 8,
   "id": "234e9013",
   "metadata": {},
   "outputs": [
    {
     "name": "stdout",
     "output_type": "stream",
     "text": [
      "item is a\n",
      "item is e\n",
      "item is i\n",
      "item is o\n",
      "item is u\n"
     ]
    }
   ],
   "source": [
    "for item in vowels:\n",
    "    print(f'item is {item}')"
   ]
  },
  {
   "cell_type": "code",
   "execution_count": 9,
   "id": "de72be22",
   "metadata": {},
   "outputs": [
    {
     "name": "stdout",
     "output_type": "stream",
     "text": [
      "item is 10\n",
      "item is 20\n",
      "item is 30\n",
      "item is 40\n",
      "item is 50\n"
     ]
    }
   ],
   "source": [
    "for item in lst:\n",
    "    print(f'item is {item}')"
   ]
  },
  {
   "cell_type": "code",
   "execution_count": 10,
   "id": "0000e6ce",
   "metadata": {},
   "outputs": [],
   "source": [
    "scores = [30,40,19,83,93]"
   ]
  },
  {
   "cell_type": "code",
   "execution_count": null,
   "id": "38ac5a2b",
   "metadata": {},
   "outputs": [],
   "source": []
  }
 ],
 "metadata": {
  "kernelspec": {
   "display_name": "dsi_participant",
   "language": "python",
   "name": "python3"
  },
  "language_info": {
   "codemirror_mode": {
    "name": "ipython",
    "version": 3
   },
   "file_extension": ".py",
   "mimetype": "text/x-python",
   "name": "python",
   "nbconvert_exporter": "python",
   "pygments_lexer": "ipython3",
   "version": "3.9.15"
  }
 },
 "nbformat": 4,
 "nbformat_minor": 5
}
