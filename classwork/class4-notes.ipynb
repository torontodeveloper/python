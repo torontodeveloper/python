{
 "cells": [
  {
   "cell_type": "code",
   "execution_count": 1,
   "id": "1a334394",
   "metadata": {},
   "outputs": [],
   "source": [
    "vowels  = ['a','e','i','o','u']"
   ]
  },
  {
   "cell_type": "code",
   "execution_count": 2,
   "id": "13094f42",
   "metadata": {},
   "outputs": [
    {
     "name": "stdout",
     "output_type": "stream",
     "text": [
      "vowels are ['a', 'e', 'i', 'o', 'u']\n"
     ]
    }
   ],
   "source": [
    "print(f'vowels are {vowels}')"
   ]
  },
  {
   "cell_type": "code",
   "execution_count": 3,
   "id": "3d3c9ef8",
   "metadata": {},
   "outputs": [
    {
     "data": {
      "text/plain": [
       "'o'"
      ]
     },
     "execution_count": 3,
     "metadata": {},
     "output_type": "execute_result"
    }
   ],
   "source": [
    "vowels[3]"
   ]
  },
  {
   "cell_type": "code",
   "execution_count": 4,
   "id": "0c7a9c54",
   "metadata": {},
   "outputs": [
    {
     "data": {
      "text/plain": [
       "['o', 'u']"
      ]
     },
     "execution_count": 4,
     "metadata": {},
     "output_type": "execute_result"
    }
   ],
   "source": [
    "vowels[3:5]"
   ]
  },
  {
   "cell_type": "code",
   "execution_count": 5,
   "id": "6d886ce6",
   "metadata": {},
   "outputs": [
    {
     "data": {
      "text/plain": [
       "['a', 'e', 'i']"
      ]
     },
     "execution_count": 5,
     "metadata": {},
     "output_type": "execute_result"
    }
   ],
   "source": [
    "vowels[0:3]"
   ]
  },
  {
   "cell_type": "code",
   "execution_count": 6,
   "id": "a59ef026",
   "metadata": {},
   "outputs": [],
   "source": [
    "t1 = ('angelina','actress',36)"
   ]
  },
  {
   "cell_type": "code",
   "execution_count": 8,
   "id": "a609c721",
   "metadata": {},
   "outputs": [
    {
     "name": "stdout",
     "output_type": "stream",
     "text": [
      "tuple is ('angelina', 'actress', 36), <class 'tuple'>\n"
     ]
    }
   ],
   "source": [
    "print(f'tuple is {t1}, {type(t1)}')"
   ]
  },
  {
   "cell_type": "code",
   "execution_count": 9,
   "id": "5645a804",
   "metadata": {},
   "outputs": [
    {
     "data": {
      "text/plain": [
       "3"
      ]
     },
     "execution_count": 9,
     "metadata": {},
     "output_type": "execute_result"
    }
   ],
   "source": [
    "len(t1)"
   ]
  },
  {
   "cell_type": "code",
   "execution_count": 10,
   "id": "406f297e",
   "metadata": {},
   "outputs": [],
   "source": [
    "t2 = ()"
   ]
  },
  {
   "cell_type": "code",
   "execution_count": 11,
   "id": "c0bf1893",
   "metadata": {},
   "outputs": [
    {
     "name": "stdout",
     "output_type": "stream",
     "text": [
      "() <class 'tuple'>\n"
     ]
    }
   ],
   "source": [
    "print(t2,type(t2))"
   ]
  },
  {
   "cell_type": "code",
   "execution_count": 12,
   "id": "7d2afd02",
   "metadata": {},
   "outputs": [
    {
     "data": {
      "text/plain": [
       "('angelina', 'actress', 36)"
      ]
     },
     "execution_count": 12,
     "metadata": {},
     "output_type": "execute_result"
    }
   ],
   "source": [
    "t1"
   ]
  },
  {
   "cell_type": "code",
   "execution_count": 13,
   "id": "ce806ca7",
   "metadata": {},
   "outputs": [
    {
     "data": {
      "text/plain": [
       "2"
      ]
     },
     "execution_count": 13,
     "metadata": {},
     "output_type": "execute_result"
    }
   ],
   "source": [
    "t1.index(36)"
   ]
  },
  {
   "cell_type": "code",
   "execution_count": 15,
   "id": "74666e1c",
   "metadata": {},
   "outputs": [
    {
     "data": {
      "text/plain": [
       "1"
      ]
     },
     "execution_count": 15,
     "metadata": {},
     "output_type": "execute_result"
    }
   ],
   "source": [
    "t1.count('angelina')"
   ]
  },
  {
   "cell_type": "code",
   "execution_count": 16,
   "id": "4489f995",
   "metadata": {},
   "outputs": [
    {
     "data": {
      "text/plain": [
       "1"
      ]
     },
     "execution_count": 16,
     "metadata": {},
     "output_type": "execute_result"
    }
   ],
   "source": [
    "t1.count(36)"
   ]
  },
  {
   "cell_type": "code",
   "execution_count": 17,
   "id": "4b1dde56",
   "metadata": {},
   "outputs": [
    {
     "data": {
      "text/plain": [
       "1"
      ]
     },
     "execution_count": 17,
     "metadata": {},
     "output_type": "execute_result"
    }
   ],
   "source": [
    "t1.count('actress')"
   ]
  },
  {
   "cell_type": "code",
   "execution_count": 18,
   "id": "1d78ee5b",
   "metadata": {},
   "outputs": [
    {
     "data": {
      "text/plain": [
       "3"
      ]
     },
     "execution_count": 18,
     "metadata": {},
     "output_type": "execute_result"
    }
   ],
   "source": [
    "len(t1)"
   ]
  },
  {
   "cell_type": "code",
   "execution_count": 19,
   "id": "dea8352a",
   "metadata": {},
   "outputs": [
    {
     "data": {
      "text/plain": [
       "0"
      ]
     },
     "execution_count": 19,
     "metadata": {},
     "output_type": "execute_result"
    }
   ],
   "source": [
    "len(t2)"
   ]
  },
  {
   "cell_type": "code",
   "execution_count": 20,
   "id": "c2be6734",
   "metadata": {},
   "outputs": [
    {
     "data": {
      "text/plain": [
       "('angelina', 'actress', 36)"
      ]
     },
     "execution_count": 20,
     "metadata": {},
     "output_type": "execute_result"
    }
   ],
   "source": [
    "t1"
   ]
  },
  {
   "cell_type": "code",
   "execution_count": 21,
   "id": "5e2ad50b",
   "metadata": {},
   "outputs": [],
   "source": [
    "t2=(36,12,44,12,9)"
   ]
  },
  {
   "cell_type": "code",
   "execution_count": 26,
   "id": "d69456ac",
   "metadata": {},
   "outputs": [],
   "source": [
    "lst1 = sorted(t2)"
   ]
  },
  {
   "cell_type": "code",
   "execution_count": 27,
   "id": "5dfca037",
   "metadata": {},
   "outputs": [
    {
     "name": "stdout",
     "output_type": "stream",
     "text": [
      "[9, 12, 12, 36, 44] <class 'list'>\n"
     ]
    }
   ],
   "source": [
    "print(lst1,type(lst1))"
   ]
  },
  {
   "cell_type": "code",
   "execution_count": 28,
   "id": "3f546cfc",
   "metadata": {},
   "outputs": [],
   "source": [
    "t3 = tuple(lst1)"
   ]
  },
  {
   "cell_type": "code",
   "execution_count": 29,
   "id": "7ede46e7",
   "metadata": {},
   "outputs": [
    {
     "name": "stdout",
     "output_type": "stream",
     "text": [
      "(9, 12, 12, 36, 44) <class 'tuple'>\n"
     ]
    }
   ],
   "source": [
    "print(t3,type(t3))"
   ]
  },
  {
   "cell_type": "code",
   "execution_count": 30,
   "id": "8402ea15",
   "metadata": {},
   "outputs": [
    {
     "data": {
      "text/plain": [
       "(36, 12, 44, 12, 9)"
      ]
     },
     "execution_count": 30,
     "metadata": {},
     "output_type": "execute_result"
    }
   ],
   "source": [
    "t2"
   ]
  },
  {
   "cell_type": "code",
   "execution_count": 31,
   "id": "a8e3c36f",
   "metadata": {},
   "outputs": [
    {
     "data": {
      "text/plain": [
       "(9, 12, 12, 36, 44)"
      ]
     },
     "execution_count": 31,
     "metadata": {},
     "output_type": "execute_result"
    }
   ],
   "source": [
    "t3"
   ]
  },
  {
   "cell_type": "code",
   "execution_count": 32,
   "id": "722ed782",
   "metadata": {},
   "outputs": [],
   "source": [
    "t4=t2+t3"
   ]
  },
  {
   "cell_type": "code",
   "execution_count": 33,
   "id": "4563786a",
   "metadata": {},
   "outputs": [
    {
     "name": "stdout",
     "output_type": "stream",
     "text": [
      "(36, 12, 44, 12, 9, 9, 12, 12, 36, 44)\n"
     ]
    }
   ],
   "source": [
    "print(t4)"
   ]
  },
  {
   "cell_type": "code",
   "execution_count": 35,
   "id": "71b6470c",
   "metadata": {},
   "outputs": [],
   "source": [
    "t5 = ('angelina','brad','donald','charlie','alice',22)"
   ]
  },
  {
   "cell_type": "code",
   "execution_count": 36,
   "id": "6b1e6cd8",
   "metadata": {},
   "outputs": [
    {
     "ename": "TypeError",
     "evalue": "'<' not supported between instances of 'int' and 'str'",
     "output_type": "error",
     "traceback": [
      "\u001b[1;31m---------------------------------------------------------------------------\u001b[0m",
      "\u001b[1;31mTypeError\u001b[0m                                 Traceback (most recent call last)",
      "Cell \u001b[1;32mIn[36], line 1\u001b[0m\n\u001b[1;32m----> 1\u001b[0m \u001b[38;5;28;43msorted\u001b[39;49m\u001b[43m(\u001b[49m\u001b[43mt5\u001b[49m\u001b[43m)\u001b[49m\n",
      "\u001b[1;31mTypeError\u001b[0m: '<' not supported between instances of 'int' and 'str'"
     ]
    }
   ],
   "source": [
    "sorted(t5)"
   ]
  },
  {
   "cell_type": "code",
   "execution_count": 37,
   "id": "dda0dbe7",
   "metadata": {},
   "outputs": [],
   "source": [
    "s1 = {10,20,10,20,30,40}"
   ]
  },
  {
   "cell_type": "code",
   "execution_count": 38,
   "id": "c3a6f7f7",
   "metadata": {},
   "outputs": [
    {
     "data": {
      "text/plain": [
       "{10, 20, 30, 40}"
      ]
     },
     "execution_count": 38,
     "metadata": {},
     "output_type": "execute_result"
    }
   ],
   "source": [
    "s1"
   ]
  },
  {
   "cell_type": "code",
   "execution_count": 39,
   "id": "9faa1fa6",
   "metadata": {},
   "outputs": [
    {
     "name": "stdout",
     "output_type": "stream",
     "text": [
      "{40, 10, 20, 30}\n"
     ]
    }
   ],
   "source": [
    "print(s1)"
   ]
  },
  {
   "cell_type": "code",
   "execution_count": 40,
   "id": "26ee529b",
   "metadata": {},
   "outputs": [],
   "source": [
    "s2 = {'books','apple',34,'coffee','mug','phone',55}"
   ]
  },
  {
   "cell_type": "code",
   "execution_count": 45,
   "id": "9b711e06",
   "metadata": {},
   "outputs": [
    {
     "data": {
      "text/plain": [
       "{34, 55, 'apple', 'books', 'coffee', 'phone'}"
      ]
     },
     "execution_count": 45,
     "metadata": {},
     "output_type": "execute_result"
    }
   ],
   "source": [
    "s2"
   ]
  },
  {
   "cell_type": "code",
   "execution_count": 41,
   "id": "d0a5fa8b",
   "metadata": {},
   "outputs": [
    {
     "name": "stdout",
     "output_type": "stream",
     "text": [
      "{'mug', 'books', 34, 'apple', 55, 'phone', 'coffee'} <class 'set'>\n"
     ]
    }
   ],
   "source": [
    "print(s2,type(s2))"
   ]
  },
  {
   "cell_type": "code",
   "execution_count": 44,
   "id": "f9d16469",
   "metadata": {},
   "outputs": [
    {
     "data": {
      "text/plain": [
       "'mug'"
      ]
     },
     "execution_count": 44,
     "metadata": {},
     "output_type": "execute_result"
    }
   ],
   "source": [
    "s2.pop()"
   ]
  },
  {
   "cell_type": "code",
   "execution_count": 47,
   "id": "565059b7",
   "metadata": {},
   "outputs": [],
   "source": [
    "articles = {'books','coffee','pen','computer','mug',34}"
   ]
  },
  {
   "cell_type": "code",
   "execution_count": 48,
   "id": "c09930ca",
   "metadata": {},
   "outputs": [],
   "source": [
    "articles.add(23)"
   ]
  },
  {
   "cell_type": "code",
   "execution_count": 49,
   "id": "47540ecb",
   "metadata": {},
   "outputs": [
    {
     "data": {
      "text/plain": [
       "{23, 34, 'books', 'coffee', 'computer', 'mug', 'pen'}"
      ]
     },
     "execution_count": 49,
     "metadata": {},
     "output_type": "execute_result"
    }
   ],
   "source": [
    "articles"
   ]
  },
  {
   "cell_type": "code",
   "execution_count": 50,
   "id": "1d8de95f",
   "metadata": {},
   "outputs": [
    {
     "name": "stdout",
     "output_type": "stream",
     "text": [
      "{'computer', 'books', 34, 'mug', 23, 'coffee', 'pen'}\n"
     ]
    }
   ],
   "source": [
    "print(articles)"
   ]
  },
  {
   "cell_type": "code",
   "execution_count": 53,
   "id": "6c18a9ec",
   "metadata": {},
   "outputs": [],
   "source": [
    "articles=set()"
   ]
  },
  {
   "cell_type": "code",
   "execution_count": 54,
   "id": "26f57c71",
   "metadata": {},
   "outputs": [
    {
     "name": "stdout",
     "output_type": "stream",
     "text": [
      "set() <class 'set'>\n"
     ]
    }
   ],
   "source": [
    "print(articles,type(articles))"
   ]
  },
  {
   "cell_type": "code",
   "execution_count": 56,
   "id": "c92b85ba",
   "metadata": {},
   "outputs": [],
   "source": [
    "rainbow = {'violet','indigo','blue','green','yellow','orange','red'}\n",
    "\n",
    "olympic_flag = {'red','green','yellow','blue','black'}"
   ]
  },
  {
   "cell_type": "code",
   "execution_count": 57,
   "id": "68c38e99",
   "metadata": {},
   "outputs": [
    {
     "data": {
      "text/plain": [
       "{'indigo', 'orange', 'violet'}"
      ]
     },
     "execution_count": 57,
     "metadata": {},
     "output_type": "execute_result"
    }
   ],
   "source": [
    "rainbow.difference(olympic_flag)"
   ]
  },
  {
   "cell_type": "code",
   "execution_count": 58,
   "id": "3d9bd54d",
   "metadata": {},
   "outputs": [
    {
     "data": {
      "text/plain": [
       "{'black'}"
      ]
     },
     "execution_count": 58,
     "metadata": {},
     "output_type": "execute_result"
    }
   ],
   "source": [
    "olympic_flag.difference(rainbow)"
   ]
  },
  {
   "cell_type": "code",
   "execution_count": 59,
   "id": "3375bfbc",
   "metadata": {},
   "outputs": [
    {
     "data": {
      "text/plain": [
       "{'black', 'indigo', 'orange', 'violet'}"
      ]
     },
     "execution_count": 59,
     "metadata": {},
     "output_type": "execute_result"
    }
   ],
   "source": [
    "rainbow.symmetric_difference(olympic_flag)"
   ]
  },
  {
   "cell_type": "code",
   "execution_count": 64,
   "id": "0ac9b727",
   "metadata": {},
   "outputs": [],
   "source": [
    "person = {\n",
    "    \"name\":'Angelina',\n",
    "    \"age\":36,\n",
    "    \"profession\":'Actress',\n",
    "    \"single\":True\n",
    "}"
   ]
  },
  {
   "cell_type": "code",
   "execution_count": 65,
   "id": "ca239023",
   "metadata": {},
   "outputs": [
    {
     "name": "stdout",
     "output_type": "stream",
     "text": [
      "{'name': 'Angelina', 'age': 36, 'profession': 'Actress', 'single': True} <class 'dict'>\n"
     ]
    }
   ],
   "source": [
    "print(person,type(person))"
   ]
  },
  {
   "cell_type": "code",
   "execution_count": 66,
   "id": "4d31cd1d",
   "metadata": {},
   "outputs": [
    {
     "data": {
      "text/plain": [
       "'Angelina'"
      ]
     },
     "execution_count": 66,
     "metadata": {},
     "output_type": "execute_result"
    }
   ],
   "source": [
    "person[\"name\"]"
   ]
  },
  {
   "cell_type": "code",
   "execution_count": 67,
   "id": "7cf86ff9",
   "metadata": {},
   "outputs": [
    {
     "data": {
      "text/plain": [
       "36"
      ]
     },
     "execution_count": 67,
     "metadata": {},
     "output_type": "execute_result"
    }
   ],
   "source": [
    "person.get('age')"
   ]
  },
  {
   "cell_type": "code",
   "execution_count": 68,
   "id": "b8c86e14",
   "metadata": {},
   "outputs": [],
   "source": [
    "olympic_cities = {\n",
    "    2020:'Tokyo',\n",
    "    2012:'Seoul',\n",
    "    2024:'Shangai'\n",
    "}"
   ]
  },
  {
   "cell_type": "code",
   "execution_count": 69,
   "id": "72e4682c",
   "metadata": {},
   "outputs": [
    {
     "name": "stdout",
     "output_type": "stream",
     "text": [
      "{2020: 'Tokyo', 2012: 'Seoul', 2024: 'Shangai'} <class 'dict'>\n"
     ]
    }
   ],
   "source": [
    "print(olympic_cities,type(olympic_cities))"
   ]
  },
  {
   "cell_type": "code",
   "execution_count": 70,
   "id": "40eeb421",
   "metadata": {},
   "outputs": [],
   "source": [
    "d1 = {}"
   ]
  },
  {
   "cell_type": "code",
   "execution_count": 71,
   "id": "90952e2a",
   "metadata": {},
   "outputs": [
    {
     "name": "stdout",
     "output_type": "stream",
     "text": [
      "{} <class 'dict'>\n"
     ]
    }
   ],
   "source": [
    "print(d1,type(d1))"
   ]
  },
  {
   "cell_type": "code",
   "execution_count": 72,
   "id": "ae7e1d6c",
   "metadata": {},
   "outputs": [],
   "source": [
    "d2 = dict()"
   ]
  },
  {
   "cell_type": "code",
   "execution_count": 73,
   "id": "3ef4044e",
   "metadata": {},
   "outputs": [
    {
     "name": "stdout",
     "output_type": "stream",
     "text": [
      "{} <class 'dict'>\n"
     ]
    }
   ],
   "source": [
    "print(d2,type(d2))"
   ]
  },
  {
   "cell_type": "code",
   "execution_count": 74,
   "id": "8b8e933b",
   "metadata": {},
   "outputs": [
    {
     "data": {
      "text/plain": [
       "{2020: 'Tokyo', 2012: 'Seoul', 2024: 'Shangai'}"
      ]
     },
     "execution_count": 74,
     "metadata": {},
     "output_type": "execute_result"
    }
   ],
   "source": [
    "olympic_cities"
   ]
  },
  {
   "cell_type": "code",
   "execution_count": 75,
   "id": "751ed611",
   "metadata": {},
   "outputs": [
    {
     "data": {
      "text/plain": [
       "'Tokyo'"
      ]
     },
     "execution_count": 75,
     "metadata": {},
     "output_type": "execute_result"
    }
   ],
   "source": [
    "olympic_cities[2020]"
   ]
  },
  {
   "cell_type": "code",
   "execution_count": 76,
   "id": "ec4611c8",
   "metadata": {},
   "outputs": [
    {
     "data": {
      "text/plain": [
       "'Tokyo'"
      ]
     },
     "execution_count": 76,
     "metadata": {},
     "output_type": "execute_result"
    }
   ],
   "source": [
    "olympic_cities.get(2020)"
   ]
  },
  {
   "cell_type": "code",
   "execution_count": 77,
   "id": "fc1444e5",
   "metadata": {},
   "outputs": [],
   "source": [
    "olympic_hosts = {\n",
    "    'summer':olympic_cities,\n",
    "    'winter':{2022:'Beijin',2014:'Tokyo'}\n",
    "}"
   ]
  },
  {
   "cell_type": "code",
   "execution_count": 78,
   "id": "47b57988",
   "metadata": {},
   "outputs": [
    {
     "data": {
      "text/plain": [
       "{'summer': {2020: 'Tokyo', 2012: 'Seoul', 2024: 'Shangai'},\n",
       " 'winter': {2022: 'Beijin', 2014: 'Tokyo'}}"
      ]
     },
     "execution_count": 78,
     "metadata": {},
     "output_type": "execute_result"
    }
   ],
   "source": [
    "olympic_hosts"
   ]
  },
  {
   "cell_type": "code",
   "execution_count": 80,
   "id": "148dc587",
   "metadata": {},
   "outputs": [
    {
     "data": {
      "text/plain": [
       "'Beijin'"
      ]
     },
     "execution_count": 80,
     "metadata": {},
     "output_type": "execute_result"
    }
   ],
   "source": [
    "olympic_hosts['winter'][2022]"
   ]
  },
  {
   "cell_type": "code",
   "execution_count": 81,
   "id": "3f2cb195",
   "metadata": {},
   "outputs": [
    {
     "data": {
      "text/plain": [
       "'Tokyo'"
      ]
     },
     "execution_count": 81,
     "metadata": {},
     "output_type": "execute_result"
    }
   ],
   "source": [
    "olympic_hosts['summer'][2020]"
   ]
  },
  {
   "cell_type": "code",
   "execution_count": 82,
   "id": "4c1a4b7c",
   "metadata": {},
   "outputs": [
    {
     "ename": "KeyError",
     "evalue": "2023",
     "output_type": "error",
     "traceback": [
      "\u001b[1;31m---------------------------------------------------------------------------\u001b[0m",
      "\u001b[1;31mKeyError\u001b[0m                                  Traceback (most recent call last)",
      "Cell \u001b[1;32mIn[82], line 1\u001b[0m\n\u001b[1;32m----> 1\u001b[0m \u001b[43molympic_hosts\u001b[49m\u001b[43m[\u001b[49m\u001b[38;5;124;43m'\u001b[39;49m\u001b[38;5;124;43msummer\u001b[39;49m\u001b[38;5;124;43m'\u001b[39;49m\u001b[43m]\u001b[49m\u001b[43m[\u001b[49m\u001b[38;5;241;43m2023\u001b[39;49m\u001b[43m]\u001b[49m\n",
      "\u001b[1;31mKeyError\u001b[0m: 2023"
     ]
    }
   ],
   "source": [
    "olympic_hosts['summer'][2023]"
   ]
  },
  {
   "cell_type": "code",
   "execution_count": 84,
   "id": "0dc5511c",
   "metadata": {},
   "outputs": [
    {
     "data": {
      "text/plain": [
       "'NA'"
      ]
     },
     "execution_count": 84,
     "metadata": {},
     "output_type": "execute_result"
    }
   ],
   "source": [
    "olympic_hosts['summer'].get(2023,'NA')"
   ]
  },
  {
   "cell_type": "code",
   "execution_count": 86,
   "id": "3508da22",
   "metadata": {},
   "outputs": [
    {
     "data": {
      "text/plain": [
       "{2020: 'Tokyo', 2012: 'Seoul', 2024: 'Shangai'}"
      ]
     },
     "execution_count": 86,
     "metadata": {},
     "output_type": "execute_result"
    }
   ],
   "source": [
    "olympic_cities"
   ]
  },
  {
   "cell_type": "code",
   "execution_count": 89,
   "id": "1b74cb59",
   "metadata": {},
   "outputs": [
    {
     "name": "stdout",
     "output_type": "stream",
     "text": [
      "2020==========>Tokyo\n",
      "2012==========>Seoul\n",
      "2024==========>Shangai\n"
     ]
    }
   ],
   "source": [
    "for key,val in olympic_cities.items():\n",
    "    print(f'{key}==========>{val}')"
   ]
  },
  {
   "cell_type": "code",
   "execution_count": 90,
   "id": "1a8f146a",
   "metadata": {},
   "outputs": [
    {
     "name": "stdout",
     "output_type": "stream",
     "text": [
      "2020\n",
      "2012\n",
      "2024\n"
     ]
    }
   ],
   "source": [
    "for item in olympic_cities:\n",
    "    print(item)"
   ]
  },
  {
   "cell_type": "code",
   "execution_count": 91,
   "id": "48a4641c",
   "metadata": {},
   "outputs": [],
   "source": [
    "d1={}"
   ]
  },
  {
   "cell_type": "code",
   "execution_count": 92,
   "id": "f56cac07",
   "metadata": {},
   "outputs": [],
   "source": [
    "d1['name'] ='Salma Hayek'"
   ]
  },
  {
   "cell_type": "code",
   "execution_count": 93,
   "id": "235cf103",
   "metadata": {},
   "outputs": [],
   "source": [
    "d1['age'] = 36"
   ]
  },
  {
   "cell_type": "code",
   "execution_count": 94,
   "id": "3b41ce92",
   "metadata": {},
   "outputs": [],
   "source": [
    "d1['city'] = 'Los Angeles'"
   ]
  },
  {
   "cell_type": "code",
   "execution_count": 95,
   "id": "98624c80",
   "metadata": {},
   "outputs": [
    {
     "data": {
      "text/plain": [
       "{'name': 'Salma Hayek', 'age': 36, 'city': 'Los Angeles'}"
      ]
     },
     "execution_count": 95,
     "metadata": {},
     "output_type": "execute_result"
    }
   ],
   "source": [
    "d1"
   ]
  },
  {
   "cell_type": "code",
   "execution_count": 96,
   "id": "2792112d",
   "metadata": {},
   "outputs": [],
   "source": [
    "tvshow = {\n",
    "    'name':'Rookie',\n",
    "    'genre':'drama',\n",
    "    'OTT':'Netflix'\n",
    "}"
   ]
  },
  {
   "cell_type": "code",
   "execution_count": 97,
   "id": "37440414",
   "metadata": {},
   "outputs": [
    {
     "name": "stdout",
     "output_type": "stream",
     "text": [
      "{'name': 'Rookie', 'genre': 'drama', 'OTT': 'Netflix'} <class 'dict'>\n"
     ]
    }
   ],
   "source": [
    "print(tvshow,type(tvshow))"
   ]
  },
  {
   "cell_type": "code",
   "execution_count": 98,
   "id": "2674c5d9",
   "metadata": {},
   "outputs": [],
   "source": [
    "tvshow['watched'] = True"
   ]
  },
  {
   "cell_type": "code",
   "execution_count": 99,
   "id": "60968b79",
   "metadata": {},
   "outputs": [
    {
     "data": {
      "text/plain": [
       "{'name': 'Rookie', 'genre': 'drama', 'OTT': 'Netflix', 'watched': True}"
      ]
     },
     "execution_count": 99,
     "metadata": {},
     "output_type": "execute_result"
    }
   ],
   "source": [
    "tvshow"
   ]
  },
  {
   "cell_type": "code",
   "execution_count": 100,
   "id": "fc2447ed",
   "metadata": {},
   "outputs": [
    {
     "data": {
      "text/plain": [
       "{'summer': {2020: 'Tokyo', 2012: 'Seoul', 2024: 'Shangai'},\n",
       " 'winter': {2022: 'Beijin', 2014: 'Tokyo'}}"
      ]
     },
     "execution_count": 100,
     "metadata": {},
     "output_type": "execute_result"
    }
   ],
   "source": [
    "olympic_hosts"
   ]
  },
  {
   "cell_type": "code",
   "execution_count": 101,
   "id": "fac84643",
   "metadata": {},
   "outputs": [
    {
     "data": {
      "text/plain": [
       "{2020: 'Tokyo', 2012: 'Seoul', 2024: 'Shangai'}"
      ]
     },
     "execution_count": 101,
     "metadata": {},
     "output_type": "execute_result"
    }
   ],
   "source": [
    "olympic_cities"
   ]
  },
  {
   "cell_type": "code",
   "execution_count": 102,
   "id": "dfc06c22",
   "metadata": {},
   "outputs": [],
   "source": [
    "olympic_cities[2020] ='New Delhi'"
   ]
  },
  {
   "cell_type": "code",
   "execution_count": 103,
   "id": "d27a476f",
   "metadata": {},
   "outputs": [
    {
     "data": {
      "text/plain": [
       "{'summer': {2020: 'New Delhi', 2012: 'Seoul', 2024: 'Shangai'},\n",
       " 'winter': {2022: 'Beijin', 2014: 'Tokyo'}}"
      ]
     },
     "execution_count": 103,
     "metadata": {},
     "output_type": "execute_result"
    }
   ],
   "source": [
    "olympic_hosts"
   ]
  },
  {
   "cell_type": "code",
   "execution_count": 104,
   "id": "3dd22451",
   "metadata": {},
   "outputs": [
    {
     "data": {
      "text/plain": [
       "{2020: 'New Delhi', 2012: 'Seoul', 2024: 'Shangai'}"
      ]
     },
     "execution_count": 104,
     "metadata": {},
     "output_type": "execute_result"
    }
   ],
   "source": [
    "olympic_cities"
   ]
  },
  {
   "cell_type": "code",
   "execution_count": 105,
   "id": "b2775268",
   "metadata": {},
   "outputs": [],
   "source": [
    "del olympic_cities[2024]"
   ]
  },
  {
   "cell_type": "code",
   "execution_count": 106,
   "id": "d6aeb2ca",
   "metadata": {},
   "outputs": [
    {
     "data": {
      "text/plain": [
       "{2020: 'New Delhi', 2012: 'Seoul'}"
      ]
     },
     "execution_count": 106,
     "metadata": {},
     "output_type": "execute_result"
    }
   ],
   "source": [
    "olympic_cities"
   ]
  },
  {
   "cell_type": "code",
   "execution_count": 107,
   "id": "318c3dc6",
   "metadata": {},
   "outputs": [
    {
     "data": {
      "text/plain": [
       "{'name': 'Rookie', 'genre': 'drama', 'OTT': 'Netflix', 'watched': True}"
      ]
     },
     "execution_count": 107,
     "metadata": {},
     "output_type": "execute_result"
    }
   ],
   "source": [
    "tvshow"
   ]
  },
  {
   "cell_type": "code",
   "execution_count": 108,
   "id": "7cd0d7ec",
   "metadata": {},
   "outputs": [
    {
     "name": "stdout",
     "output_type": "stream",
     "text": [
      "name\n",
      "genre\n",
      "OTT\n",
      "watched\n"
     ]
    }
   ],
   "source": [
    "for key in tvshow.keys():\n",
    "    print(key)"
   ]
  },
  {
   "cell_type": "code",
   "execution_count": 109,
   "id": "61afe3c2",
   "metadata": {},
   "outputs": [
    {
     "name": "stdout",
     "output_type": "stream",
     "text": [
      "Rookie\n",
      "drama\n",
      "Netflix\n",
      "True\n"
     ]
    }
   ],
   "source": [
    "for val in tvshow.values():\n",
    "    print(val)"
   ]
  },
  {
   "cell_type": "code",
   "execution_count": 110,
   "id": "2d6b7548",
   "metadata": {},
   "outputs": [
    {
     "name": "stdout",
     "output_type": "stream",
     "text": [
      "name ==========> Rookie\n",
      "genre ==========> drama\n",
      "OTT ==========> Netflix\n",
      "watched ==========> True\n"
     ]
    }
   ],
   "source": [
    "for key,val in tvshow.items():\n",
    "    print(key,'==========>',val)"
   ]
  },
  {
   "cell_type": "code",
   "execution_count": 111,
   "id": "129234a4",
   "metadata": {},
   "outputs": [],
   "source": [
    "vowels = ['a','e','i','o','u']"
   ]
  },
  {
   "cell_type": "code",
   "execution_count": 112,
   "id": "0660c46a",
   "metadata": {},
   "outputs": [
    {
     "name": "stdout",
     "output_type": "stream",
     "text": [
      "a\n",
      "e\n",
      "i\n",
      "o\n",
      "u\n"
     ]
    }
   ],
   "source": [
    "for char in vowels:\n",
    "    print(char)"
   ]
  },
  {
   "cell_type": "code",
   "execution_count": 114,
   "id": "cf9c2955",
   "metadata": {},
   "outputs": [
    {
     "name": "stdout",
     "output_type": "stream",
     "text": [
      "0 0\n",
      "1 2\n",
      "2 4\n",
      "3 6\n",
      "4 8\n",
      "5 10\n",
      "6 12\n"
     ]
    }
   ],
   "source": [
    "for item in range(7):\n",
    "    print(item,item*2)"
   ]
  },
  {
   "cell_type": "code",
   "execution_count": 116,
   "id": "791e6023",
   "metadata": {},
   "outputs": [],
   "source": [
    "input_files = ['data01.csv','data02.csv','data03.csv','data04.csv']"
   ]
  },
  {
   "cell_type": "code",
   "execution_count": 118,
   "id": "527cd0dc",
   "metadata": {},
   "outputs": [],
   "source": [
    "output_files = []\n",
    "\n",
    "for file in input_files:\n",
    "    tmpFile = 'processed_'+file.replace('csv','xlsx')\n",
    "    output_files.append(tmpFile)"
   ]
  },
  {
   "cell_type": "code",
   "execution_count": 119,
   "id": "62ebfb67",
   "metadata": {},
   "outputs": [
    {
     "data": {
      "text/plain": [
       "['processed_data01.xlsx',\n",
       " 'processed_data02.xlsx',\n",
       " 'processed_data03.xlsx',\n",
       " 'processed_data04.xlsx']"
      ]
     },
     "execution_count": 119,
     "metadata": {},
     "output_type": "execute_result"
    }
   ],
   "source": [
    "output_files"
   ]
  },
  {
   "cell_type": "code",
   "execution_count": 121,
   "id": "ec66ff2c",
   "metadata": {},
   "outputs": [],
   "source": [
    "actors = ['angelina','salma','madhuri','samantha','brad pitt']"
   ]
  },
  {
   "cell_type": "code",
   "execution_count": 122,
   "id": "008c74aa",
   "metadata": {},
   "outputs": [
    {
     "name": "stdout",
     "output_type": "stream",
     "text": [
      "0 ==========> angelina\n",
      "1 ==========> salma\n",
      "2 ==========> madhuri\n",
      "3 ==========> samantha\n",
      "4 ==========> brad pitt\n"
     ]
    }
   ],
   "source": [
    "for index,val in enumerate(actors):\n",
    "    print(index,'==========>',val)"
   ]
  },
  {
   "cell_type": "code",
   "execution_count": 123,
   "id": "c1246da9",
   "metadata": {},
   "outputs": [],
   "source": [
    "numbers = [3.14,9.8,3.10,420]"
   ]
  },
  {
   "cell_type": "code",
   "execution_count": 124,
   "id": "d4b9cbeb",
   "metadata": {},
   "outputs": [
    {
     "name": "stdout",
     "output_type": "stream",
     "text": [
      "0 3.14\n",
      "1 9.8\n",
      "2 3.1\n",
      "3 420\n"
     ]
    }
   ],
   "source": [
    "for index,num in enumerate(numbers):\n",
    "    print(index,num)"
   ]
  },
  {
   "cell_type": "code",
   "execution_count": 127,
   "id": "e1995010",
   "metadata": {},
   "outputs": [
    {
     "name": "stdout",
     "output_type": "stream",
     "text": [
      "0 3.14\n",
      "1 9.8\n",
      "2 3.1\n",
      "3 420\n"
     ]
    }
   ],
   "source": [
    "for index,num in enumerate(numbers):\n",
    "    print(index,num)"
   ]
  },
  {
   "cell_type": "code",
   "execution_count": 129,
   "id": "f9c09af4",
   "metadata": {},
   "outputs": [],
   "source": [
    "newNumbers = [num*10 for num in numbers]"
   ]
  },
  {
   "cell_type": "code",
   "execution_count": 130,
   "id": "c94de8a2",
   "metadata": {},
   "outputs": [
    {
     "data": {
      "text/plain": [
       "[31.400000000000002, 98.0, 31.0, 4200]"
      ]
     },
     "execution_count": 130,
     "metadata": {},
     "output_type": "execute_result"
    }
   ],
   "source": [
    "newNumbers"
   ]
  },
  {
   "cell_type": "code",
   "execution_count": 131,
   "id": "87e86d02",
   "metadata": {},
   "outputs": [],
   "source": [
    "lats = (34.5,41.2,67.3)"
   ]
  },
  {
   "cell_type": "code",
   "execution_count": 132,
   "id": "e2bb43dd",
   "metadata": {},
   "outputs": [],
   "source": [
    "longs = (74.1,83,93)"
   ]
  },
  {
   "cell_type": "code",
   "execution_count": 133,
   "id": "2444a252",
   "metadata": {},
   "outputs": [
    {
     "name": "stdout",
     "output_type": "stream",
     "text": [
      "34.5 74.1\n",
      "41.2 83\n",
      "67.3 93\n"
     ]
    }
   ],
   "source": [
    "for item1,item2 in zip(lats,longs):\n",
    "    print(item1,item2)"
   ]
  },
  {
   "cell_type": "code",
   "execution_count": 134,
   "id": "9a9b7402",
   "metadata": {},
   "outputs": [],
   "source": [
    "matrix = [[1,2,3],[4,5,6],[7,8,9]]"
   ]
  },
  {
   "cell_type": "code",
   "execution_count": 135,
   "id": "c15f67f6",
   "metadata": {},
   "outputs": [
    {
     "name": "stdout",
     "output_type": "stream",
     "text": [
      "1\n",
      "2\n",
      "3\n",
      "4\n",
      "5\n",
      "6\n",
      "7\n",
      "8\n",
      "9\n"
     ]
    }
   ],
   "source": [
    "for item in matrix:\n",
    "    for char in item:\n",
    "        print(char)"
   ]
  },
  {
   "cell_type": "code",
   "execution_count": 137,
   "id": "284f3e2d",
   "metadata": {},
   "outputs": [
    {
     "name": "stdout",
     "output_type": "stream",
     "text": [
      "0\n",
      "1\n",
      "2\n",
      "3\n",
      "4\n",
      "5\n",
      "6\n",
      "7\n",
      "8\n",
      "9\n"
     ]
    }
   ],
   "source": [
    "size = 10\n",
    "index=0\n",
    "while(index<size):\n",
    "    print(index)\n",
    "    index+=1"
   ]
  },
  {
   "cell_type": "code",
   "execution_count": 140,
   "id": "e1136448",
   "metadata": {},
   "outputs": [
    {
     "name": "stdout",
     "output_type": "stream",
     "text": [
      "0\n",
      "1\n",
      "2\n",
      "3\n",
      "4\n",
      "5\n"
     ]
    }
   ],
   "source": [
    "for item in range(10):\n",
    "   if item==6:\n",
    "       break\n",
    "   print(item)"
   ]
  },
  {
   "cell_type": "code",
   "execution_count": 142,
   "id": "5731a04f",
   "metadata": {},
   "outputs": [
    {
     "name": "stdout",
     "output_type": "stream",
     "text": [
      "['', '23', '42', '12', '14', '523', '42', '!']\n"
     ]
    }
   ],
   "source": [
    "lst=[]\n",
    "while True:\n",
    "    msg = int(input('Plz enter list of values'))\n",
    "    lst.append(msg)\n",
    "    if msg=='!':\n",
    "        break\n",
    "    \n",
    "print(lst)"
   ]
  },
  {
   "cell_type": "code",
   "execution_count": 143,
   "id": "58a23d27",
   "metadata": {},
   "outputs": [
    {
     "name": "stdout",
     "output_type": "stream",
     "text": [
      "1\n",
      "2\n",
      "3\n"
     ]
    }
   ],
   "source": [
    "wishes = 3\n",
    "counter =0\n",
    "while counter < wishes:\n",
    "    counter+=1\n",
    "    print(counter)"
   ]
  },
  {
   "cell_type": "code",
   "execution_count": 149,
   "id": "35d76ba4",
   "metadata": {},
   "outputs": [
    {
     "name": "stdout",
     "output_type": "stream",
     "text": [
      "file content is ['When deploying FastAPI applications a common approach is to build a Linux container image. \\n', \"It's normally done using Docker. You can then deploy that container image in one of a few possible ways.\\n\", 'Using Linux containers has several advantages including security, replicability, simplicity, and others.']\n"
     ]
    }
   ],
   "source": [
    "with open('input.txt','r') as file:\n",
    "    content = file.readlines()\n",
    "    print(f'file content is {content}')"
   ]
  },
  {
   "cell_type": "code",
   "execution_count": 150,
   "id": "e6a777e8",
   "metadata": {},
   "outputs": [
    {
     "ename": "FileNotFoundError",
     "evalue": "[Errno 2] No such file or directory: 'C:\\\\Udemy-MachineLearning\\\\03-Pandas\\\\movies_score.csv'",
     "output_type": "error",
     "traceback": [
      "\u001b[1;31m---------------------------------------------------------------------------\u001b[0m",
      "\u001b[1;31mFileNotFoundError\u001b[0m                         Traceback (most recent call last)",
      "Cell \u001b[1;32mIn[150], line 1\u001b[0m\n\u001b[1;32m----> 1\u001b[0m \u001b[38;5;28;01mwith\u001b[39;00m \u001b[38;5;28;43mopen\u001b[39;49m\u001b[43m(\u001b[49m\u001b[38;5;124;43mr\u001b[39;49m\u001b[38;5;124;43m\"\u001b[39;49m\u001b[38;5;124;43mC:\u001b[39;49m\u001b[38;5;124;43m\\\u001b[39;49m\u001b[38;5;124;43mUdemy-MachineLearning\u001b[39;49m\u001b[38;5;124;43m\\\u001b[39;49m\u001b[38;5;124;43m03-Pandas\u001b[39;49m\u001b[38;5;124;43m\\\u001b[39;49m\u001b[38;5;124;43mmovies_score.csv\u001b[39;49m\u001b[38;5;124;43m\"\u001b[39;49m\u001b[43m,\u001b[49m\u001b[38;5;124;43m'\u001b[39;49m\u001b[38;5;124;43mr\u001b[39;49m\u001b[38;5;124;43m'\u001b[39;49m\u001b[43m)\u001b[49m \u001b[38;5;28;01mas\u001b[39;00m file:\n\u001b[0;32m      2\u001b[0m     content \u001b[38;5;241m=\u001b[39m file\u001b[38;5;241m.\u001b[39mreadline()\n\u001b[0;32m      3\u001b[0m     \u001b[38;5;28mprint\u001b[39m(\u001b[38;5;124mf\u001b[39m\u001b[38;5;124m'\u001b[39m\u001b[38;5;124mcontent is \u001b[39m\u001b[38;5;132;01m{\u001b[39;00mcontent\u001b[38;5;132;01m}\u001b[39;00m\u001b[38;5;124m'\u001b[39m)\n",
      "File \u001b[1;32mc:\\Users\\nages\\miniconda3\\envs\\dsi_participant\\lib\\site-packages\\IPython\\core\\interactiveshell.py:310\u001b[0m, in \u001b[0;36m_modified_open\u001b[1;34m(file, *args, **kwargs)\u001b[0m\n\u001b[0;32m    303\u001b[0m \u001b[38;5;28;01mif\u001b[39;00m file \u001b[38;5;129;01min\u001b[39;00m {\u001b[38;5;241m0\u001b[39m, \u001b[38;5;241m1\u001b[39m, \u001b[38;5;241m2\u001b[39m}:\n\u001b[0;32m    304\u001b[0m     \u001b[38;5;28;01mraise\u001b[39;00m \u001b[38;5;167;01mValueError\u001b[39;00m(\n\u001b[0;32m    305\u001b[0m         \u001b[38;5;124mf\u001b[39m\u001b[38;5;124m\"\u001b[39m\u001b[38;5;124mIPython won\u001b[39m\u001b[38;5;124m'\u001b[39m\u001b[38;5;124mt let you open fd=\u001b[39m\u001b[38;5;132;01m{\u001b[39;00mfile\u001b[38;5;132;01m}\u001b[39;00m\u001b[38;5;124m by default \u001b[39m\u001b[38;5;124m\"\u001b[39m\n\u001b[0;32m    306\u001b[0m         \u001b[38;5;124m\"\u001b[39m\u001b[38;5;124mas it is likely to crash IPython. If you know what you are doing, \u001b[39m\u001b[38;5;124m\"\u001b[39m\n\u001b[0;32m    307\u001b[0m         \u001b[38;5;124m\"\u001b[39m\u001b[38;5;124myou can use builtins\u001b[39m\u001b[38;5;124m'\u001b[39m\u001b[38;5;124m open.\u001b[39m\u001b[38;5;124m\"\u001b[39m\n\u001b[0;32m    308\u001b[0m     )\n\u001b[1;32m--> 310\u001b[0m \u001b[38;5;28;01mreturn\u001b[39;00m io_open(file, \u001b[38;5;241m*\u001b[39margs, \u001b[38;5;241m*\u001b[39m\u001b[38;5;241m*\u001b[39mkwargs)\n",
      "\u001b[1;31mFileNotFoundError\u001b[0m: [Errno 2] No such file or directory: 'C:\\\\Udemy-MachineLearning\\\\03-Pandas\\\\movies_score.csv'"
     ]
    }
   ],
   "source": [
    "with open(r\"C:\\Udemy-MachineLearning\\03-Pandas\\movies_score.csv\",'r') as file:\n",
    "    content = file.readline()\n",
    "    print(f'content is {content}')"
   ]
  },
  {
   "cell_type": "code",
   "execution_count": null,
   "id": "722df2ad",
   "metadata": {},
   "outputs": [],
   "source": []
  }
 ],
 "metadata": {
  "kernelspec": {
   "display_name": "dsi_participant",
   "language": "python",
   "name": "python3"
  },
  "language_info": {
   "codemirror_mode": {
    "name": "ipython",
    "version": 3
   },
   "file_extension": ".py",
   "mimetype": "text/x-python",
   "name": "python",
   "nbconvert_exporter": "python",
   "pygments_lexer": "ipython3",
   "version": "3.9.15"
  }
 },
 "nbformat": 4,
 "nbformat_minor": 5
}
