{
 "cells": [
  {
   "cell_type": "code",
   "execution_count": 1,
   "id": "f82962b3",
   "metadata": {},
   "outputs": [],
   "source": [
    "import numpy as np"
   ]
  },
  {
   "cell_type": "code",
   "execution_count": 4,
   "id": "31f92768",
   "metadata": {},
   "outputs": [],
   "source": [
    "array1 = np.array([1,2,3,4,5])"
   ]
  },
  {
   "cell_type": "code",
   "execution_count": 5,
   "id": "bad75054",
   "metadata": {},
   "outputs": [
    {
     "name": "stdout",
     "output_type": "stream",
     "text": [
      "[1 2 3 4 5] <class 'numpy.ndarray'>\n"
     ]
    }
   ],
   "source": [
    "print(array1,type(array1))"
   ]
  },
  {
   "cell_type": "code",
   "execution_count": 7,
   "id": "4cdc4049",
   "metadata": {},
   "outputs": [],
   "source": [
    "lst = [10,20,30,40,50]\n",
    "array2 = np.array(lst)"
   ]
  },
  {
   "cell_type": "code",
   "execution_count": 8,
   "id": "8f1c6e07",
   "metadata": {},
   "outputs": [
    {
     "name": "stdout",
     "output_type": "stream",
     "text": [
      "[10 20 30 40 50] <class 'numpy.ndarray'>\n"
     ]
    }
   ],
   "source": [
    "print(array2,type(array2))"
   ]
  },
  {
   "cell_type": "code",
   "execution_count": 11,
   "id": "3d86b44e",
   "metadata": {},
   "outputs": [],
   "source": [
    "array2d = np.array([[2,3,4],[4,5,6],[78,1,23]])"
   ]
  },
  {
   "cell_type": "code",
   "execution_count": 12,
   "id": "71e9e5fd",
   "metadata": {},
   "outputs": [
    {
     "name": "stdout",
     "output_type": "stream",
     "text": [
      "[[ 2  3  4]\n",
      " [ 4  5  6]\n",
      " [78  1 23]] <class 'numpy.ndarray'>\n"
     ]
    }
   ],
   "source": [
    "print(array2d,type(array2d))"
   ]
  },
  {
   "cell_type": "code",
   "execution_count": 13,
   "id": "a289b7db",
   "metadata": {},
   "outputs": [
    {
     "data": {
      "text/plain": [
       "(3, 3)"
      ]
     },
     "execution_count": 13,
     "metadata": {},
     "output_type": "execute_result"
    }
   ],
   "source": [
    "array2d.shape"
   ]
  },
  {
   "cell_type": "code",
   "execution_count": 14,
   "id": "4cee9906",
   "metadata": {},
   "outputs": [
    {
     "data": {
      "text/plain": [
       "array([1, 2, 3, 4, 5])"
      ]
     },
     "execution_count": 14,
     "metadata": {},
     "output_type": "execute_result"
    }
   ],
   "source": [
    "array1"
   ]
  },
  {
   "cell_type": "code",
   "execution_count": 16,
   "id": "9f564826",
   "metadata": {},
   "outputs": [
    {
     "data": {
      "text/plain": [
       "2"
      ]
     },
     "execution_count": 16,
     "metadata": {},
     "output_type": "execute_result"
    }
   ],
   "source": [
    "array1[1]"
   ]
  },
  {
   "cell_type": "code",
   "execution_count": 17,
   "id": "a66cc346",
   "metadata": {},
   "outputs": [
    {
     "data": {
      "text/plain": [
       "array([[ 2,  3,  4],\n",
       "       [ 4,  5,  6],\n",
       "       [78,  1, 23]])"
      ]
     },
     "execution_count": 17,
     "metadata": {},
     "output_type": "execute_result"
    }
   ],
   "source": [
    "array2d"
   ]
  },
  {
   "cell_type": "code",
   "execution_count": 18,
   "id": "999171c2",
   "metadata": {},
   "outputs": [
    {
     "data": {
      "text/plain": [
       "array([4, 5, 6])"
      ]
     },
     "execution_count": 18,
     "metadata": {},
     "output_type": "execute_result"
    }
   ],
   "source": [
    "array2d[1]"
   ]
  },
  {
   "cell_type": "code",
   "execution_count": 19,
   "id": "30c2c26f",
   "metadata": {},
   "outputs": [
    {
     "data": {
      "text/plain": [
       "2"
      ]
     },
     "execution_count": 19,
     "metadata": {},
     "output_type": "execute_result"
    }
   ],
   "source": [
    "array2d.ndim"
   ]
  },
  {
   "cell_type": "code",
   "execution_count": 20,
   "id": "d2521535",
   "metadata": {},
   "outputs": [
    {
     "data": {
      "text/plain": [
       "(3, 3)"
      ]
     },
     "execution_count": 20,
     "metadata": {},
     "output_type": "execute_result"
    }
   ],
   "source": [
    "array2d.shape"
   ]
  },
  {
   "cell_type": "code",
   "execution_count": 21,
   "id": "d451e790",
   "metadata": {},
   "outputs": [
    {
     "data": {
      "text/plain": [
       "array([[ 2,  3,  4],\n",
       "       [ 4,  5,  6],\n",
       "       [78,  1, 23]])"
      ]
     },
     "execution_count": 21,
     "metadata": {},
     "output_type": "execute_result"
    }
   ],
   "source": [
    "array2d"
   ]
  },
  {
   "cell_type": "code",
   "execution_count": 22,
   "id": "5a04718e",
   "metadata": {},
   "outputs": [
    {
     "data": {
      "text/plain": [
       "9"
      ]
     },
     "execution_count": 22,
     "metadata": {},
     "output_type": "execute_result"
    }
   ],
   "source": [
    "array2d.size"
   ]
  },
  {
   "cell_type": "code",
   "execution_count": 23,
   "id": "8155c0c5",
   "metadata": {},
   "outputs": [
    {
     "data": {
      "text/plain": [
       "4"
      ]
     },
     "execution_count": 23,
     "metadata": {},
     "output_type": "execute_result"
    }
   ],
   "source": [
    "array2d.itemsize"
   ]
  },
  {
   "cell_type": "code",
   "execution_count": 24,
   "id": "0a86cbe7",
   "metadata": {},
   "outputs": [
    {
     "data": {
      "text/plain": [
       "dtype('int32')"
      ]
     },
     "execution_count": 24,
     "metadata": {},
     "output_type": "execute_result"
    }
   ],
   "source": [
    "array2d.dtype"
   ]
  },
  {
   "cell_type": "code",
   "execution_count": 27,
   "id": "b7b90f58",
   "metadata": {},
   "outputs": [],
   "source": [
    "array1d = np.arange(0,4)"
   ]
  },
  {
   "cell_type": "code",
   "execution_count": 30,
   "id": "79920023",
   "metadata": {},
   "outputs": [
    {
     "data": {
      "text/plain": [
       "array([0, 1, 2, 3])"
      ]
     },
     "execution_count": 30,
     "metadata": {},
     "output_type": "execute_result"
    }
   ],
   "source": [
    "array1d"
   ]
  },
  {
   "cell_type": "code",
   "execution_count": 31,
   "id": "cbf287f3",
   "metadata": {},
   "outputs": [
    {
     "data": {
      "text/plain": [
       "(4,)"
      ]
     },
     "execution_count": 31,
     "metadata": {},
     "output_type": "execute_result"
    }
   ],
   "source": [
    "array1d.shape"
   ]
  },
  {
   "cell_type": "code",
   "execution_count": 32,
   "id": "4c5c6363",
   "metadata": {},
   "outputs": [
    {
     "data": {
      "text/plain": [
       "4"
      ]
     },
     "execution_count": 32,
     "metadata": {},
     "output_type": "execute_result"
    }
   ],
   "source": [
    "array1d.size"
   ]
  },
  {
   "cell_type": "code",
   "execution_count": 35,
   "id": "0f0f5cdd",
   "metadata": {},
   "outputs": [
    {
     "data": {
      "text/plain": [
       "dtype('int32')"
      ]
     },
     "execution_count": 35,
     "metadata": {},
     "output_type": "execute_result"
    }
   ],
   "source": [
    "array1d.dtype"
   ]
  },
  {
   "cell_type": "code",
   "execution_count": 36,
   "id": "2a654836",
   "metadata": {},
   "outputs": [],
   "source": [
    "test = np.array([5,4,9],dtype='int64')"
   ]
  },
  {
   "cell_type": "code",
   "execution_count": 37,
   "id": "5c05ce10",
   "metadata": {},
   "outputs": [
    {
     "data": {
      "text/plain": [
       "dtype('int64')"
      ]
     },
     "execution_count": 37,
     "metadata": {},
     "output_type": "execute_result"
    }
   ],
   "source": [
    "test.dtype"
   ]
  },
  {
   "cell_type": "code",
   "execution_count": 38,
   "id": "4a1237c6",
   "metadata": {},
   "outputs": [
    {
     "data": {
      "text/plain": [
       "(4,)"
      ]
     },
     "execution_count": 38,
     "metadata": {},
     "output_type": "execute_result"
    }
   ],
   "source": [
    "array1d.strides"
   ]
  },
  {
   "cell_type": "code",
   "execution_count": 49,
   "id": "243a08d6",
   "metadata": {},
   "outputs": [],
   "source": [
    "array1d_str = np.array(['wheat','coffee','bread','eggs','omlette',33])"
   ]
  },
  {
   "cell_type": "code",
   "execution_count": 50,
   "id": "eac58ca9",
   "metadata": {},
   "outputs": [
    {
     "data": {
      "text/plain": [
       "array(['wheat', 'coffee', 'bread', 'eggs', 'omlette', '33'], dtype='<U11')"
      ]
     },
     "execution_count": 50,
     "metadata": {},
     "output_type": "execute_result"
    }
   ],
   "source": [
    "array1d_str"
   ]
  },
  {
   "cell_type": "code",
   "execution_count": 48,
   "id": "d3f023c2",
   "metadata": {},
   "outputs": [
    {
     "data": {
      "text/plain": [
       "dtype('<U7')"
      ]
     },
     "execution_count": 48,
     "metadata": {},
     "output_type": "execute_result"
    }
   ],
   "source": [
    "array1d_str.dtype"
   ]
  },
  {
   "cell_type": "code",
   "execution_count": 45,
   "id": "637897c1",
   "metadata": {},
   "outputs": [
    {
     "data": {
      "text/plain": [
       "array(['wheat', 'coffee', 'bread', 'eggs'], dtype='<U6')"
      ]
     },
     "execution_count": 45,
     "metadata": {},
     "output_type": "execute_result"
    }
   ],
   "source": [
    "array1d_str"
   ]
  },
  {
   "cell_type": "code",
   "execution_count": 51,
   "id": "c253d00f",
   "metadata": {},
   "outputs": [
    {
     "data": {
      "text/plain": [
       "44"
      ]
     },
     "execution_count": 51,
     "metadata": {},
     "output_type": "execute_result"
    }
   ],
   "source": [
    "array1d_str.itemsize"
   ]
  },
  {
   "cell_type": "code",
   "execution_count": 52,
   "id": "06245d72",
   "metadata": {},
   "outputs": [
    {
     "data": {
      "text/plain": [
       "dtype('<U11')"
      ]
     },
     "execution_count": 52,
     "metadata": {},
     "output_type": "execute_result"
    }
   ],
   "source": [
    "array1d_str.dtype"
   ]
  },
  {
   "cell_type": "code",
   "execution_count": 53,
   "id": "6c036983",
   "metadata": {},
   "outputs": [
    {
     "data": {
      "text/plain": [
       "'str352'"
      ]
     },
     "execution_count": 53,
     "metadata": {},
     "output_type": "execute_result"
    }
   ],
   "source": [
    "array1d_str.dtype.name"
   ]
  },
  {
   "cell_type": "code",
   "execution_count": 54,
   "id": "02fd38ca",
   "metadata": {},
   "outputs": [
    {
     "data": {
      "text/plain": [
       "44"
      ]
     },
     "execution_count": 54,
     "metadata": {},
     "output_type": "execute_result"
    }
   ],
   "source": [
    "array1d_str.itemsize"
   ]
  },
  {
   "cell_type": "code",
   "execution_count": 55,
   "id": "ec8045ca",
   "metadata": {},
   "outputs": [],
   "source": [
    "array1d = np.arange(10)"
   ]
  },
  {
   "cell_type": "code",
   "execution_count": 56,
   "id": "6e4668f7",
   "metadata": {},
   "outputs": [
    {
     "data": {
      "text/plain": [
       "array([0, 1, 2, 3, 4, 5, 6, 7, 8, 9])"
      ]
     },
     "execution_count": 56,
     "metadata": {},
     "output_type": "execute_result"
    }
   ],
   "source": [
    "array1d"
   ]
  },
  {
   "cell_type": "code",
   "execution_count": 57,
   "id": "3fe0bfa1",
   "metadata": {},
   "outputs": [
    {
     "data": {
      "text/plain": [
       "array([[ 2,  3,  4],\n",
       "       [ 4,  5,  6],\n",
       "       [78,  1, 23]])"
      ]
     },
     "execution_count": 57,
     "metadata": {},
     "output_type": "execute_result"
    }
   ],
   "source": [
    "array2d"
   ]
  },
  {
   "cell_type": "code",
   "execution_count": 58,
   "id": "81125834",
   "metadata": {},
   "outputs": [
    {
     "data": {
      "text/plain": [
       "5"
      ]
     },
     "execution_count": 58,
     "metadata": {},
     "output_type": "execute_result"
    }
   ],
   "source": [
    "array2d[1,1]"
   ]
  },
  {
   "cell_type": "code",
   "execution_count": null,
   "id": "e961e095",
   "metadata": {},
   "outputs": [],
   "source": []
  }
 ],
 "metadata": {
  "kernelspec": {
   "display_name": "dsi_participant",
   "language": "python",
   "name": "python3"
  },
  "language_info": {
   "codemirror_mode": {
    "name": "ipython",
    "version": 3
   },
   "file_extension": ".py",
   "mimetype": "text/x-python",
   "name": "python",
   "nbconvert_exporter": "python",
   "pygments_lexer": "ipython3",
   "version": "3.9.15"
  }
 },
 "nbformat": 4,
 "nbformat_minor": 5
}
